{
 "cells": [
  {
   "cell_type": "markdown",
   "metadata": {},
   "source": [
    "<a name='3'></a>\n",
    "### Loading the libraries and dataset"
   ]
  },
  {
   "cell_type": "code",
   "execution_count": 393,
   "metadata": {},
   "outputs": [],
   "source": [
    "# Importing libraries\n",
    "import pandas as pd \n",
    "import numpy as np \n",
    "import statsmodels.api as sm\n",
    "from statsmodels.formula.api import ols\n",
    "from pygam import GAM, ExpectileGAM, s ,l, f\n",
    "\n",
    "import matplotlib.pyplot as plt\n",
    "from sklearn.preprocessing import LabelEncoder\n",
    "\n",
    "import seaborn as sns; sns.set(style=\"ticks\", color_codes=True)\n",
    "\n",
    "#from plotnine import *\n",
    "\n"
   ]
  },
  {
   "cell_type": "code",
   "execution_count": 367,
   "metadata": {},
   "outputs": [],
   "source": [
    "## Get multiple outputs in the same cell\n",
    "from IPython.core.interactiveshell import InteractiveShell\n",
    "InteractiveShell.ast_node_interactivity = \"all\"\n",
    "\n",
    "## Ignore all warnings\n",
    "import warnings\n",
    "warnings.filterwarnings('ignore')\n",
    "warnings.filterwarnings(action='ignore', category=DeprecationWarning)"
   ]
  },
  {
   "cell_type": "code",
   "execution_count": 368,
   "metadata": {},
   "outputs": [],
   "source": [
    "## Display all rows and columns of a dataframe instead of a truncated version\n",
    "from IPython.display import display\n",
    "pd.set_option('display.max_columns', None)\n",
    "pd.set_option('display.max_rows', None)"
   ]
  },
  {
   "cell_type": "code",
   "execution_count": 369,
   "metadata": {},
   "outputs": [],
   "source": [
    "# Load data\n",
    "sold = pd.read_csv(\"Cafe+-+Sell+Meta+Data.csv\")\n",
    "transaction = pd.read_csv(\"Cafe+-+Transaction+-+Store.csv\")\n",
    "date_info = pd.read_csv(\"Cafe+-+DateInfo.csv\")"
   ]
  },
  {
   "cell_type": "code",
   "execution_count": 370,
   "metadata": {},
   "outputs": [
    {
     "name": "stdout",
     "output_type": "stream",
     "text": [
      "<class 'pandas.core.frame.DataFrame'>\n",
      "RangeIndex: 11 entries, 0 to 10\n",
      "Data columns (total 4 columns):\n",
      " #   Column         Non-Null Count  Dtype \n",
      "---  ------         --------------  ----- \n",
      " 0   SELL_ID        11 non-null     int64 \n",
      " 1   SELL_CATEGORY  11 non-null     int64 \n",
      " 2   ITEM_ID        11 non-null     int64 \n",
      " 3   ITEM_NAME      11 non-null     object\n",
      "dtypes: int64(3), object(1)\n",
      "memory usage: 480.0+ bytes\n"
     ]
    }
   ],
   "source": [
    "sold.info()"
   ]
  },
  {
   "cell_type": "code",
   "execution_count": 371,
   "metadata": {},
   "outputs": [
    {
     "name": "stdout",
     "output_type": "stream",
     "text": [
      "<class 'pandas.core.frame.DataFrame'>\n",
      "RangeIndex: 5404 entries, 0 to 5403\n",
      "Data columns (total 5 columns):\n",
      " #   Column         Non-Null Count  Dtype  \n",
      "---  ------         --------------  -----  \n",
      " 0   CALENDAR_DATE  5404 non-null   object \n",
      " 1   PRICE          5404 non-null   float64\n",
      " 2   QUANTITY       5404 non-null   int64  \n",
      " 3   SELL_ID        5404 non-null   int64  \n",
      " 4   SELL_CATEGORY  5404 non-null   int64  \n",
      "dtypes: float64(1), int64(3), object(1)\n",
      "memory usage: 211.2+ KB\n"
     ]
    }
   ],
   "source": [
    "transaction.info()"
   ]
  },
  {
   "cell_type": "code",
   "execution_count": 372,
   "metadata": {},
   "outputs": [
    {
     "name": "stdout",
     "output_type": "stream",
     "text": [
      "<class 'pandas.core.frame.DataFrame'>\n",
      "RangeIndex: 1349 entries, 0 to 1348\n",
      "Data columns (total 7 columns):\n",
      " #   Column               Non-Null Count  Dtype  \n",
      "---  ------               --------------  -----  \n",
      " 0   CALENDAR_DATE        1349 non-null   object \n",
      " 1   YEAR                 1349 non-null   int64  \n",
      " 2   HOLIDAY              105 non-null    object \n",
      " 3   IS_WEEKEND           1349 non-null   int64  \n",
      " 4   IS_SCHOOLBREAK       1349 non-null   int64  \n",
      " 5   AVERAGE_TEMPERATURE  1349 non-null   float64\n",
      " 6   IS_OUTDOOR           1349 non-null   int64  \n",
      "dtypes: float64(1), int64(4), object(2)\n",
      "memory usage: 73.9+ KB\n"
     ]
    }
   ],
   "source": [
    "date_info.info()"
   ]
  },
  {
   "cell_type": "code",
   "execution_count": 373,
   "metadata": {},
   "outputs": [],
   "source": [
    "transaction['CALENDAR_DATE'] = pd.to_datetime(transaction['CALENDAR_DATE'])\n",
    "date_info['CALENDAR_DATE'] = pd.to_datetime(date_info['CALENDAR_DATE'])"
   ]
  },
  {
   "cell_type": "code",
   "execution_count": 374,
   "metadata": {},
   "outputs": [
    {
     "data": {
      "text/plain": [
       "(Timestamp('2012-01-01 00:00:00'), Timestamp('2015-09-10 00:00:00'))"
      ]
     },
     "execution_count": 374,
     "metadata": {},
     "output_type": "execute_result"
    }
   ],
   "source": [
    "transaction['CALENDAR_DATE'].min(),transaction['CALENDAR_DATE'].max()"
   ]
  },
  {
   "cell_type": "code",
   "execution_count": 375,
   "metadata": {},
   "outputs": [
    {
     "data": {
      "text/plain": [
       "(Timestamp('2012-01-01 00:00:00'), Timestamp('2015-09-10 00:00:00'))"
      ]
     },
     "execution_count": 375,
     "metadata": {},
     "output_type": "execute_result"
    }
   ],
   "source": [
    "date_info['CALENDAR_DATE'].min(),date_info['CALENDAR_DATE'].max()"
   ]
  },
  {
   "cell_type": "code",
   "execution_count": 376,
   "metadata": {},
   "outputs": [
    {
     "data": {
      "text/plain": [
       "((1349, 7), (5404, 5), (11, 4))"
      ]
     },
     "execution_count": 376,
     "metadata": {},
     "output_type": "execute_result"
    }
   ],
   "source": [
    "date_info.shape, transaction.shape, sold.shape"
   ]
  },
  {
   "cell_type": "code",
   "execution_count": 377,
   "metadata": {},
   "outputs": [
    {
     "name": "stdout",
     "output_type": "stream",
     "text": [
      "<class 'pandas.core.frame.DataFrame'>\n",
      "Int64Index: 5420 entries, 0 to 5419\n",
      "Data columns (total 11 columns):\n",
      " #   Column               Non-Null Count  Dtype         \n",
      "---  ------               --------------  -----         \n",
      " 0   CALENDAR_DATE        5420 non-null   datetime64[ns]\n",
      " 1   YEAR                 5420 non-null   int64         \n",
      " 2   HOLIDAY              420 non-null    object        \n",
      " 3   IS_WEEKEND           5420 non-null   int64         \n",
      " 4   IS_SCHOOLBREAK       5420 non-null   int64         \n",
      " 5   AVERAGE_TEMPERATURE  5420 non-null   float64       \n",
      " 6   IS_OUTDOOR           5420 non-null   int64         \n",
      " 7   PRICE                5420 non-null   float64       \n",
      " 8   QUANTITY             5420 non-null   int64         \n",
      " 9   SELL_ID              5420 non-null   int64         \n",
      " 10  SELL_CATEGORY        5420 non-null   int64         \n",
      "dtypes: datetime64[ns](1), float64(2), int64(7), object(1)\n",
      "memory usage: 508.1+ KB\n"
     ]
    }
   ],
   "source": [
    "intrm_tbl = pd.merge(date_info, transaction, on = 'CALENDAR_DATE')\n",
    "intrm_tbl.info()"
   ]
  },
  {
   "cell_type": "code",
   "execution_count": 378,
   "metadata": {},
   "outputs": [
    {
     "name": "stdout",
     "output_type": "stream",
     "text": [
      "<class 'pandas.core.frame.DataFrame'>\n",
      "Int64Index: 10840 entries, 0 to 10839\n",
      "Data columns (total 14 columns):\n",
      " #   Column               Non-Null Count  Dtype         \n",
      "---  ------               --------------  -----         \n",
      " 0   CALENDAR_DATE        10840 non-null  datetime64[ns]\n",
      " 1   YEAR                 10840 non-null  int64         \n",
      " 2   HOLIDAY              840 non-null    object        \n",
      " 3   IS_WEEKEND           10840 non-null  int64         \n",
      " 4   IS_SCHOOLBREAK       10840 non-null  int64         \n",
      " 5   AVERAGE_TEMPERATURE  10840 non-null  float64       \n",
      " 6   IS_OUTDOOR           10840 non-null  int64         \n",
      " 7   PRICE                10840 non-null  float64       \n",
      " 8   QUANTITY             10840 non-null  int64         \n",
      " 9   SELL_ID              10840 non-null  int64         \n",
      " 10  SELL_CATEGORY_intrm  10840 non-null  int64         \n",
      " 11  SELL_CATEGORY_sold   10840 non-null  int64         \n",
      " 12  ITEM_ID              10840 non-null  int64         \n",
      " 13  ITEM_NAME            10840 non-null  object        \n",
      "dtypes: datetime64[ns](1), float64(2), int64(9), object(2)\n",
      "memory usage: 1.2+ MB\n"
     ]
    }
   ],
   "source": [
    "final_table = pd.merge(intrm_tbl, sold, on='SELL_ID', suffixes=('_intrm', '_sold'))\n",
    "final_table.info()"
   ]
  },
  {
   "cell_type": "code",
   "execution_count": 379,
   "metadata": {},
   "outputs": [],
   "source": [
    "final_table = final_table.sort_values(by = 'CALENDAR_DATE').reset_index(drop = True)\n",
    "final_table.drop(columns=['SELL_CATEGORY_intrm'], inplace= True)"
   ]
  },
  {
   "cell_type": "code",
   "execution_count": 380,
   "metadata": {},
   "outputs": [
    {
     "data": {
      "text/html": [
       "<div>\n",
       "<style scoped>\n",
       "    .dataframe tbody tr th:only-of-type {\n",
       "        vertical-align: middle;\n",
       "    }\n",
       "\n",
       "    .dataframe tbody tr th {\n",
       "        vertical-align: top;\n",
       "    }\n",
       "\n",
       "    .dataframe thead th {\n",
       "        text-align: right;\n",
       "    }\n",
       "</style>\n",
       "<table border=\"1\" class=\"dataframe\">\n",
       "  <thead>\n",
       "    <tr style=\"text-align: right;\">\n",
       "      <th></th>\n",
       "      <th>CALENDAR_DATE</th>\n",
       "      <th>YEAR</th>\n",
       "      <th>HOLIDAY</th>\n",
       "      <th>IS_WEEKEND</th>\n",
       "      <th>IS_SCHOOLBREAK</th>\n",
       "      <th>AVERAGE_TEMPERATURE</th>\n",
       "      <th>IS_OUTDOOR</th>\n",
       "      <th>PRICE</th>\n",
       "      <th>QUANTITY</th>\n",
       "      <th>SELL_ID</th>\n",
       "      <th>SELL_CATEGORY_sold</th>\n",
       "      <th>ITEM_ID</th>\n",
       "      <th>ITEM_NAME</th>\n",
       "    </tr>\n",
       "  </thead>\n",
       "  <tbody>\n",
       "    <tr>\n",
       "      <th>0</th>\n",
       "      <td>2012-01-01</td>\n",
       "      <td>2012</td>\n",
       "      <td>New Year</td>\n",
       "      <td>1</td>\n",
       "      <td>0</td>\n",
       "      <td>24.8</td>\n",
       "      <td>0</td>\n",
       "      <td>15.50</td>\n",
       "      <td>46</td>\n",
       "      <td>1070</td>\n",
       "      <td>0</td>\n",
       "      <td>7821</td>\n",
       "      <td>BURGER</td>\n",
       "    </tr>\n",
       "    <tr>\n",
       "      <th>1</th>\n",
       "      <td>2012-01-01</td>\n",
       "      <td>2012</td>\n",
       "      <td>New Year</td>\n",
       "      <td>1</td>\n",
       "      <td>0</td>\n",
       "      <td>24.8</td>\n",
       "      <td>0</td>\n",
       "      <td>12.75</td>\n",
       "      <td>18</td>\n",
       "      <td>2052</td>\n",
       "      <td>2</td>\n",
       "      <td>6249</td>\n",
       "      <td>LEMONADE</td>\n",
       "    </tr>\n",
       "    <tr>\n",
       "      <th>2</th>\n",
       "      <td>2012-01-01</td>\n",
       "      <td>2012</td>\n",
       "      <td>New Year</td>\n",
       "      <td>1</td>\n",
       "      <td>0</td>\n",
       "      <td>24.8</td>\n",
       "      <td>0</td>\n",
       "      <td>12.75</td>\n",
       "      <td>18</td>\n",
       "      <td>2052</td>\n",
       "      <td>2</td>\n",
       "      <td>7821</td>\n",
       "      <td>BURGER</td>\n",
       "    </tr>\n",
       "    <tr>\n",
       "      <th>3</th>\n",
       "      <td>2012-01-01</td>\n",
       "      <td>2012</td>\n",
       "      <td>New Year</td>\n",
       "      <td>1</td>\n",
       "      <td>0</td>\n",
       "      <td>24.8</td>\n",
       "      <td>0</td>\n",
       "      <td>12.73</td>\n",
       "      <td>22</td>\n",
       "      <td>2051</td>\n",
       "      <td>2</td>\n",
       "      <td>7821</td>\n",
       "      <td>BURGER</td>\n",
       "    </tr>\n",
       "    <tr>\n",
       "      <th>4</th>\n",
       "      <td>2012-01-01</td>\n",
       "      <td>2012</td>\n",
       "      <td>New Year</td>\n",
       "      <td>1</td>\n",
       "      <td>0</td>\n",
       "      <td>24.8</td>\n",
       "      <td>0</td>\n",
       "      <td>12.73</td>\n",
       "      <td>22</td>\n",
       "      <td>2051</td>\n",
       "      <td>2</td>\n",
       "      <td>5030</td>\n",
       "      <td>COKE</td>\n",
       "    </tr>\n",
       "  </tbody>\n",
       "</table>\n",
       "</div>"
      ],
      "text/plain": [
       "  CALENDAR_DATE  YEAR   HOLIDAY  IS_WEEKEND  IS_SCHOOLBREAK  \\\n",
       "0    2012-01-01  2012  New Year           1               0   \n",
       "1    2012-01-01  2012  New Year           1               0   \n",
       "2    2012-01-01  2012  New Year           1               0   \n",
       "3    2012-01-01  2012  New Year           1               0   \n",
       "4    2012-01-01  2012  New Year           1               0   \n",
       "\n",
       "   AVERAGE_TEMPERATURE  IS_OUTDOOR  PRICE  QUANTITY  SELL_ID  \\\n",
       "0                 24.8           0  15.50        46     1070   \n",
       "1                 24.8           0  12.75        18     2052   \n",
       "2                 24.8           0  12.75        18     2052   \n",
       "3                 24.8           0  12.73        22     2051   \n",
       "4                 24.8           0  12.73        22     2051   \n",
       "\n",
       "   SELL_CATEGORY_sold  ITEM_ID ITEM_NAME  \n",
       "0                   0     7821    BURGER  \n",
       "1                   2     6249  LEMONADE  \n",
       "2                   2     7821    BURGER  \n",
       "3                   2     7821    BURGER  \n",
       "4                   2     5030      COKE  "
      ]
     },
     "execution_count": 380,
     "metadata": {},
     "output_type": "execute_result"
    }
   ],
   "source": [
    "final_table.head()"
   ]
  },
  {
   "cell_type": "code",
   "execution_count": 381,
   "metadata": {},
   "outputs": [
    {
     "name": "stdout",
     "output_type": "stream",
     "text": [
      "<class 'pandas.core.frame.DataFrame'>\n",
      "RangeIndex: 10840 entries, 0 to 10839\n",
      "Data columns (total 13 columns):\n",
      " #   Column               Non-Null Count  Dtype         \n",
      "---  ------               --------------  -----         \n",
      " 0   CALENDAR_DATE        10840 non-null  datetime64[ns]\n",
      " 1   YEAR                 10840 non-null  int64         \n",
      " 2   HOLIDAY              840 non-null    object        \n",
      " 3   IS_WEEKEND           10840 non-null  int64         \n",
      " 4   IS_SCHOOLBREAK       10840 non-null  int64         \n",
      " 5   AVERAGE_TEMPERATURE  10840 non-null  float64       \n",
      " 6   IS_OUTDOOR           10840 non-null  int64         \n",
      " 7   PRICE                10840 non-null  float64       \n",
      " 8   QUANTITY             10840 non-null  int64         \n",
      " 9   SELL_ID              10840 non-null  int64         \n",
      " 10  SELL_CATEGORY_sold   10840 non-null  int64         \n",
      " 11  ITEM_ID              10840 non-null  int64         \n",
      " 12  ITEM_NAME            10840 non-null  object        \n",
      "dtypes: datetime64[ns](1), float64(2), int64(8), object(2)\n",
      "memory usage: 1.1+ MB\n"
     ]
    }
   ],
   "source": [
    "final_table.info()"
   ]
  },
  {
   "cell_type": "code",
   "execution_count": 382,
   "metadata": {},
   "outputs": [
    {
     "data": {
      "text/plain": [
       "CALENDAR_DATE              0\n",
       "YEAR                       0\n",
       "HOLIDAY                10000\n",
       "IS_WEEKEND                 0\n",
       "IS_SCHOOLBREAK             0\n",
       "AVERAGE_TEMPERATURE        0\n",
       "IS_OUTDOOR                 0\n",
       "PRICE                      0\n",
       "QUANTITY                   0\n",
       "SELL_ID                    0\n",
       "SELL_CATEGORY_sold         0\n",
       "ITEM_ID                    0\n",
       "ITEM_NAME                  0\n",
       "dtype: int64"
      ]
     },
     "execution_count": 382,
     "metadata": {},
     "output_type": "execute_result"
    }
   ],
   "source": [
    "final_table.isnull().sum()"
   ]
  },
  {
   "cell_type": "markdown",
   "metadata": {},
   "source": [
    "# Data Pre-processing"
   ]
  },
  {
   "cell_type": "code",
   "execution_count": 383,
   "metadata": {},
   "outputs": [],
   "source": [
    "# filling missing values\n",
    "\n",
    "final_table['HOLIDAY'] = final_table['HOLIDAY'].fillna('Non Holiday')"
   ]
  },
  {
   "cell_type": "code",
   "execution_count": 384,
   "metadata": {},
   "outputs": [],
   "source": [
    "final_table['is_event'] = np.where(final_table['HOLIDAY'] != 'Non Holiday', 1,0)"
   ]
  },
  {
   "cell_type": "code",
   "execution_count": 385,
   "metadata": {},
   "outputs": [],
   "source": [
    "final_table['Revenue'] = final_table['PRICE'] * final_table['QUANTITY']"
   ]
  },
  {
   "cell_type": "code",
   "execution_count": 386,
   "metadata": {},
   "outputs": [],
   "source": [
    "gam_table = final_table.copy()"
   ]
  },
  {
   "cell_type": "markdown",
   "metadata": {},
   "source": [
    "# Exploratory data analysis"
   ]
  },
  {
   "cell_type": "code",
   "execution_count": 340,
   "metadata": {},
   "outputs": [
    {
     "data": {
      "text/html": [
       "<div>\n",
       "<style scoped>\n",
       "    .dataframe tbody tr th:only-of-type {\n",
       "        vertical-align: middle;\n",
       "    }\n",
       "\n",
       "    .dataframe tbody tr th {\n",
       "        vertical-align: top;\n",
       "    }\n",
       "\n",
       "    .dataframe thead th {\n",
       "        text-align: right;\n",
       "    }\n",
       "</style>\n",
       "<table border=\"1\" class=\"dataframe\">\n",
       "  <thead>\n",
       "    <tr style=\"text-align: right;\">\n",
       "      <th></th>\n",
       "      <th>CALENDAR_DATE</th>\n",
       "      <th>YEAR</th>\n",
       "      <th>HOLIDAY</th>\n",
       "      <th>IS_WEEKEND</th>\n",
       "      <th>IS_SCHOOLBREAK</th>\n",
       "      <th>AVERAGE_TEMPERATURE</th>\n",
       "      <th>IS_OUTDOOR</th>\n",
       "      <th>PRICE</th>\n",
       "      <th>QUANTITY</th>\n",
       "      <th>SELL_ID</th>\n",
       "      <th>SELL_CATEGORY_sold</th>\n",
       "      <th>ITEM_ID</th>\n",
       "      <th>ITEM_NAME</th>\n",
       "      <th>is_event</th>\n",
       "      <th>Revenue</th>\n",
       "    </tr>\n",
       "  </thead>\n",
       "  <tbody>\n",
       "    <tr>\n",
       "      <th>0</th>\n",
       "      <td>2012-01-01</td>\n",
       "      <td>2012</td>\n",
       "      <td>New Year</td>\n",
       "      <td>1</td>\n",
       "      <td>0</td>\n",
       "      <td>24.8</td>\n",
       "      <td>0</td>\n",
       "      <td>15.50</td>\n",
       "      <td>46</td>\n",
       "      <td>1070</td>\n",
       "      <td>0</td>\n",
       "      <td>7821</td>\n",
       "      <td>BURGER</td>\n",
       "      <td>1</td>\n",
       "      <td>713.00</td>\n",
       "    </tr>\n",
       "    <tr>\n",
       "      <th>1</th>\n",
       "      <td>2012-01-01</td>\n",
       "      <td>2012</td>\n",
       "      <td>New Year</td>\n",
       "      <td>1</td>\n",
       "      <td>0</td>\n",
       "      <td>24.8</td>\n",
       "      <td>0</td>\n",
       "      <td>12.75</td>\n",
       "      <td>18</td>\n",
       "      <td>2052</td>\n",
       "      <td>2</td>\n",
       "      <td>6249</td>\n",
       "      <td>LEMONADE</td>\n",
       "      <td>1</td>\n",
       "      <td>229.50</td>\n",
       "    </tr>\n",
       "    <tr>\n",
       "      <th>2</th>\n",
       "      <td>2012-01-01</td>\n",
       "      <td>2012</td>\n",
       "      <td>New Year</td>\n",
       "      <td>1</td>\n",
       "      <td>0</td>\n",
       "      <td>24.8</td>\n",
       "      <td>0</td>\n",
       "      <td>12.75</td>\n",
       "      <td>18</td>\n",
       "      <td>2052</td>\n",
       "      <td>2</td>\n",
       "      <td>7821</td>\n",
       "      <td>BURGER</td>\n",
       "      <td>1</td>\n",
       "      <td>229.50</td>\n",
       "    </tr>\n",
       "    <tr>\n",
       "      <th>3</th>\n",
       "      <td>2012-01-01</td>\n",
       "      <td>2012</td>\n",
       "      <td>New Year</td>\n",
       "      <td>1</td>\n",
       "      <td>0</td>\n",
       "      <td>24.8</td>\n",
       "      <td>0</td>\n",
       "      <td>12.73</td>\n",
       "      <td>22</td>\n",
       "      <td>2051</td>\n",
       "      <td>2</td>\n",
       "      <td>7821</td>\n",
       "      <td>BURGER</td>\n",
       "      <td>1</td>\n",
       "      <td>280.06</td>\n",
       "    </tr>\n",
       "    <tr>\n",
       "      <th>4</th>\n",
       "      <td>2012-01-01</td>\n",
       "      <td>2012</td>\n",
       "      <td>New Year</td>\n",
       "      <td>1</td>\n",
       "      <td>0</td>\n",
       "      <td>24.8</td>\n",
       "      <td>0</td>\n",
       "      <td>12.73</td>\n",
       "      <td>22</td>\n",
       "      <td>2051</td>\n",
       "      <td>2</td>\n",
       "      <td>5030</td>\n",
       "      <td>COKE</td>\n",
       "      <td>1</td>\n",
       "      <td>280.06</td>\n",
       "    </tr>\n",
       "  </tbody>\n",
       "</table>\n",
       "</div>"
      ],
      "text/plain": [
       "  CALENDAR_DATE  YEAR   HOLIDAY  IS_WEEKEND  IS_SCHOOLBREAK  \\\n",
       "0    2012-01-01  2012  New Year           1               0   \n",
       "1    2012-01-01  2012  New Year           1               0   \n",
       "2    2012-01-01  2012  New Year           1               0   \n",
       "3    2012-01-01  2012  New Year           1               0   \n",
       "4    2012-01-01  2012  New Year           1               0   \n",
       "\n",
       "   AVERAGE_TEMPERATURE  IS_OUTDOOR  PRICE  QUANTITY  SELL_ID  \\\n",
       "0                 24.8           0  15.50        46     1070   \n",
       "1                 24.8           0  12.75        18     2052   \n",
       "2                 24.8           0  12.75        18     2052   \n",
       "3                 24.8           0  12.73        22     2051   \n",
       "4                 24.8           0  12.73        22     2051   \n",
       "\n",
       "   SELL_CATEGORY_sold  ITEM_ID ITEM_NAME  is_event  Revenue  \n",
       "0                   0     7821    BURGER         1   713.00  \n",
       "1                   2     6249  LEMONADE         1   229.50  \n",
       "2                   2     7821    BURGER         1   229.50  \n",
       "3                   2     7821    BURGER         1   280.06  \n",
       "4                   2     5030      COKE         1   280.06  "
      ]
     },
     "execution_count": 340,
     "metadata": {},
     "output_type": "execute_result"
    }
   ],
   "source": [
    "final_table.head()"
   ]
  },
  {
   "cell_type": "code",
   "execution_count": 341,
   "metadata": {},
   "outputs": [
    {
     "data": {
      "text/html": [
       "<div>\n",
       "<style scoped>\n",
       "    .dataframe tbody tr th:only-of-type {\n",
       "        vertical-align: middle;\n",
       "    }\n",
       "\n",
       "    .dataframe tbody tr th {\n",
       "        vertical-align: top;\n",
       "    }\n",
       "\n",
       "    .dataframe thead th {\n",
       "        text-align: right;\n",
       "    }\n",
       "</style>\n",
       "<table border=\"1\" class=\"dataframe\">\n",
       "  <thead>\n",
       "    <tr style=\"text-align: right;\">\n",
       "      <th></th>\n",
       "      <th>YEAR</th>\n",
       "      <th>PRICE</th>\n",
       "    </tr>\n",
       "  </thead>\n",
       "  <tbody>\n",
       "    <tr>\n",
       "      <th>0</th>\n",
       "      <td>2012</td>\n",
       "      <td>12.442997</td>\n",
       "    </tr>\n",
       "    <tr>\n",
       "      <th>1</th>\n",
       "      <td>2013</td>\n",
       "      <td>12.528548</td>\n",
       "    </tr>\n",
       "    <tr>\n",
       "      <th>2</th>\n",
       "      <td>2014</td>\n",
       "      <td>12.620161</td>\n",
       "    </tr>\n",
       "    <tr>\n",
       "      <th>3</th>\n",
       "      <td>2015</td>\n",
       "      <td>12.202125</td>\n",
       "    </tr>\n",
       "  </tbody>\n",
       "</table>\n",
       "</div>"
      ],
      "text/plain": [
       "   YEAR      PRICE\n",
       "0  2012  12.442997\n",
       "1  2013  12.528548\n",
       "2  2014  12.620161\n",
       "3  2015  12.202125"
      ]
     },
     "execution_count": 341,
     "metadata": {},
     "output_type": "execute_result"
    }
   ],
   "source": [
    "avg_price_per_year = final_table.groupby(['YEAR'])['PRICE'].mean().reset_index()\n",
    "\n",
    "avg_price_per_year"
   ]
  },
  {
   "cell_type": "code",
   "execution_count": 342,
   "metadata": {},
   "outputs": [
    {
     "data": {
      "text/plain": [
       "<Figure size 1000x600 with 0 Axes>"
      ]
     },
     "execution_count": 342,
     "metadata": {},
     "output_type": "execute_result"
    },
    {
     "data": {
      "text/plain": [
       "<Axes: xlabel='YEAR', ylabel='PRICE'>"
      ]
     },
     "execution_count": 342,
     "metadata": {},
     "output_type": "execute_result"
    },
    {
     "data": {
      "text/plain": [
       "Text(0.5, 1.0, 'Average Item Price Variation Over the Years')"
      ]
     },
     "execution_count": 342,
     "metadata": {},
     "output_type": "execute_result"
    },
    {
     "data": {
      "text/plain": [
       "Text(0.5, 0, 'Year')"
      ]
     },
     "execution_count": 342,
     "metadata": {},
     "output_type": "execute_result"
    },
    {
     "data": {
      "text/plain": [
       "Text(0, 0.5, 'Average price')"
      ]
     },
     "execution_count": 342,
     "metadata": {},
     "output_type": "execute_result"
    },
    {
     "data": {
      "image/png": "[encoded data removed]",
      "text/plain": [
       "<Figure size 1000x600 with 1 Axes>"
      ]
     },
     "metadata": {},
     "output_type": "display_data"
    }
   ],
   "source": [
    "plt.figure(figsize= (10,6))\n",
    "sns.lineplot(x = 'YEAR', y = 'PRICE', data = avg_price_per_year)\n",
    "plt.title('Average Item Price Variation Over the Years')\n",
    "plt.xlabel('Year')\n",
    "plt.ylabel('Average price')\n",
    "plt.show()"
   ]
  },
  {
   "cell_type": "code",
   "execution_count": 343,
   "metadata": {},
   "outputs": [],
   "source": [
    "avg_price_per_year_byitem = final_table.groupby(['YEAR', 'ITEM_NAME'])['PRICE'].mean().reset_index()\n"
   ]
  },
  {
   "cell_type": "code",
   "execution_count": 344,
   "metadata": {},
   "outputs": [
    {
     "data": {
      "text/plain": [
       "<Figure size 1200x800 with 0 Axes>"
      ]
     },
     "execution_count": 344,
     "metadata": {},
     "output_type": "execute_result"
    },
    {
     "data": {
      "text/plain": [
       "<Axes: xlabel='YEAR', ylabel='PRICE'>"
      ]
     },
     "execution_count": 344,
     "metadata": {},
     "output_type": "execute_result"
    },
    {
     "data": {
      "text/plain": [
       "Text(0.5, 1.0, 'Average Item Price Variation Over the Years Across Items')"
      ]
     },
     "execution_count": 344,
     "metadata": {},
     "output_type": "execute_result"
    },
    {
     "data": {
      "text/plain": [
       "Text(0.5, 0, 'Year')"
      ]
     },
     "execution_count": 344,
     "metadata": {},
     "output_type": "execute_result"
    },
    {
     "data": {
      "text/plain": [
       "Text(0, 0.5, 'Average price')"
      ]
     },
     "execution_count": 344,
     "metadata": {},
     "output_type": "execute_result"
    },
    {
     "data": {
      "image/png": "[encoded data removed]",
      "text/plain": [
       "<Figure size 1200x800 with 1 Axes>"
      ]
     },
     "metadata": {},
     "output_type": "display_data"
    }
   ],
   "source": [
    "plt.figure(figsize= (12,8))\n",
    "sns.lineplot(x = 'YEAR', y = 'PRICE', hue = 'ITEM_NAME', data = avg_price_per_year_byitem)\n",
    "plt.title('Average Item Price Variation Over the Years Across Items')\n",
    "plt.xlabel('Year')\n",
    "plt.ylabel('Average price')\n",
    "plt.show()"
   ]
  },
  {
   "cell_type": "code",
   "execution_count": 345,
   "metadata": {},
   "outputs": [],
   "source": [
    "holiday_price_df = final_table.groupby(['is_event', 'PRICE'])['QUANTITY'].mean().reset_index()\n",
    "\n",
    "\n",
    "holiday_price_df['Round_Price'] = np.round(holiday_price_df['PRICE'],0)\n",
    "holiday_price_df = holiday_price_df.groupby(['is_event', 'Round_Price'])['QUANTITY'].mean().reset_index()"
   ]
  },
  {
   "cell_type": "code",
   "execution_count": 346,
   "metadata": {},
   "outputs": [
    {
     "data": {
      "text/plain": [
       "<Figure size 2000x800 with 0 Axes>"
      ]
     },
     "execution_count": 346,
     "metadata": {},
     "output_type": "execute_result"
    },
    {
     "data": {
      "text/plain": [
       "<Axes: xlabel='Round_Price', ylabel='QUANTITY'>"
      ]
     },
     "execution_count": 346,
     "metadata": {},
     "output_type": "execute_result"
    },
    {
     "data": {
      "text/plain": [
       "Text(0.5, 1.0, 'Average Quantity sold during holidays')"
      ]
     },
     "execution_count": 346,
     "metadata": {},
     "output_type": "execute_result"
    },
    {
     "data": {
      "text/plain": [
       "Text(0.5, 0, 'Price')"
      ]
     },
     "execution_count": 346,
     "metadata": {},
     "output_type": "execute_result"
    },
    {
     "data": {
      "text/plain": [
       "Text(0, 0.5, 'Average Quantity sold')"
      ]
     },
     "execution_count": 346,
     "metadata": {},
     "output_type": "execute_result"
    },
    {
     "data": {
      "image/png": "[encoded data removed]",
      "text/plain": [
       "<Figure size 2000x800 with 1 Axes>"
      ]
     },
     "metadata": {},
     "output_type": "display_data"
    }
   ],
   "source": [
    "plt.figure(figsize= (20,8))\n",
    "sns.barplot(x = 'Round_Price', y = 'QUANTITY', hue = 'is_event', data = holiday_price_df)\n",
    "plt.title('Average Quantity sold during holidays')\n",
    "plt.xlabel('Price')\n",
    "plt.ylabel('Average Quantity sold')\n",
    "plt.show()"
   ]
  },
  {
   "cell_type": "code",
   "execution_count": 347,
   "metadata": {},
   "outputs": [
    {
     "data": {
      "text/html": [
       "<div>\n",
       "<style scoped>\n",
       "    .dataframe tbody tr th:only-of-type {\n",
       "        vertical-align: middle;\n",
       "    }\n",
       "\n",
       "    .dataframe tbody tr th {\n",
       "        vertical-align: top;\n",
       "    }\n",
       "\n",
       "    .dataframe thead th {\n",
       "        text-align: right;\n",
       "    }\n",
       "</style>\n",
       "<table border=\"1\" class=\"dataframe\">\n",
       "  <thead>\n",
       "    <tr style=\"text-align: right;\">\n",
       "      <th></th>\n",
       "      <th>CALENDAR_DATE</th>\n",
       "      <th>YEAR</th>\n",
       "      <th>HOLIDAY</th>\n",
       "      <th>IS_WEEKEND</th>\n",
       "      <th>IS_SCHOOLBREAK</th>\n",
       "      <th>AVERAGE_TEMPERATURE</th>\n",
       "      <th>IS_OUTDOOR</th>\n",
       "      <th>PRICE</th>\n",
       "      <th>QUANTITY</th>\n",
       "      <th>SELL_ID</th>\n",
       "      <th>SELL_CATEGORY_sold</th>\n",
       "      <th>ITEM_ID</th>\n",
       "      <th>ITEM_NAME</th>\n",
       "      <th>is_event</th>\n",
       "      <th>Revenue</th>\n",
       "    </tr>\n",
       "  </thead>\n",
       "  <tbody>\n",
       "    <tr>\n",
       "      <th>0</th>\n",
       "      <td>2012-01-01</td>\n",
       "      <td>2012</td>\n",
       "      <td>New Year</td>\n",
       "      <td>1</td>\n",
       "      <td>0</td>\n",
       "      <td>24.8</td>\n",
       "      <td>0</td>\n",
       "      <td>15.50</td>\n",
       "      <td>46</td>\n",
       "      <td>1070</td>\n",
       "      <td>0</td>\n",
       "      <td>7821</td>\n",
       "      <td>BURGER</td>\n",
       "      <td>1</td>\n",
       "      <td>713.00</td>\n",
       "    </tr>\n",
       "    <tr>\n",
       "      <th>1</th>\n",
       "      <td>2012-01-01</td>\n",
       "      <td>2012</td>\n",
       "      <td>New Year</td>\n",
       "      <td>1</td>\n",
       "      <td>0</td>\n",
       "      <td>24.8</td>\n",
       "      <td>0</td>\n",
       "      <td>12.75</td>\n",
       "      <td>18</td>\n",
       "      <td>2052</td>\n",
       "      <td>2</td>\n",
       "      <td>6249</td>\n",
       "      <td>LEMONADE</td>\n",
       "      <td>1</td>\n",
       "      <td>229.50</td>\n",
       "    </tr>\n",
       "    <tr>\n",
       "      <th>2</th>\n",
       "      <td>2012-01-01</td>\n",
       "      <td>2012</td>\n",
       "      <td>New Year</td>\n",
       "      <td>1</td>\n",
       "      <td>0</td>\n",
       "      <td>24.8</td>\n",
       "      <td>0</td>\n",
       "      <td>12.75</td>\n",
       "      <td>18</td>\n",
       "      <td>2052</td>\n",
       "      <td>2</td>\n",
       "      <td>7821</td>\n",
       "      <td>BURGER</td>\n",
       "      <td>1</td>\n",
       "      <td>229.50</td>\n",
       "    </tr>\n",
       "    <tr>\n",
       "      <th>3</th>\n",
       "      <td>2012-01-01</td>\n",
       "      <td>2012</td>\n",
       "      <td>New Year</td>\n",
       "      <td>1</td>\n",
       "      <td>0</td>\n",
       "      <td>24.8</td>\n",
       "      <td>0</td>\n",
       "      <td>12.73</td>\n",
       "      <td>22</td>\n",
       "      <td>2051</td>\n",
       "      <td>2</td>\n",
       "      <td>7821</td>\n",
       "      <td>BURGER</td>\n",
       "      <td>1</td>\n",
       "      <td>280.06</td>\n",
       "    </tr>\n",
       "    <tr>\n",
       "      <th>4</th>\n",
       "      <td>2012-01-01</td>\n",
       "      <td>2012</td>\n",
       "      <td>New Year</td>\n",
       "      <td>1</td>\n",
       "      <td>0</td>\n",
       "      <td>24.8</td>\n",
       "      <td>0</td>\n",
       "      <td>12.73</td>\n",
       "      <td>22</td>\n",
       "      <td>2051</td>\n",
       "      <td>2</td>\n",
       "      <td>5030</td>\n",
       "      <td>COKE</td>\n",
       "      <td>1</td>\n",
       "      <td>280.06</td>\n",
       "    </tr>\n",
       "  </tbody>\n",
       "</table>\n",
       "</div>"
      ],
      "text/plain": [
       "  CALENDAR_DATE  YEAR   HOLIDAY  IS_WEEKEND  IS_SCHOOLBREAK  \\\n",
       "0    2012-01-01  2012  New Year           1               0   \n",
       "1    2012-01-01  2012  New Year           1               0   \n",
       "2    2012-01-01  2012  New Year           1               0   \n",
       "3    2012-01-01  2012  New Year           1               0   \n",
       "4    2012-01-01  2012  New Year           1               0   \n",
       "\n",
       "   AVERAGE_TEMPERATURE  IS_OUTDOOR  PRICE  QUANTITY  SELL_ID  \\\n",
       "0                 24.8           0  15.50        46     1070   \n",
       "1                 24.8           0  12.75        18     2052   \n",
       "2                 24.8           0  12.75        18     2052   \n",
       "3                 24.8           0  12.73        22     2051   \n",
       "4                 24.8           0  12.73        22     2051   \n",
       "\n",
       "   SELL_CATEGORY_sold  ITEM_ID ITEM_NAME  is_event  Revenue  \n",
       "0                   0     7821    BURGER         1   713.00  \n",
       "1                   2     6249  LEMONADE         1   229.50  \n",
       "2                   2     7821    BURGER         1   229.50  \n",
       "3                   2     7821    BURGER         1   280.06  \n",
       "4                   2     5030      COKE         1   280.06  "
      ]
     },
     "execution_count": 347,
     "metadata": {},
     "output_type": "execute_result"
    }
   ],
   "source": [
    "final_table.head()"
   ]
  },
  {
   "cell_type": "code",
   "execution_count": 348,
   "metadata": {},
   "outputs": [],
   "source": [
    "weekend_price_df = final_table.groupby(['IS_WEEKEND'])['PRICE','QUANTITY'].mean().reset_index()"
   ]
  },
  {
   "cell_type": "code",
   "execution_count": 349,
   "metadata": {},
   "outputs": [
    {
     "data": {
      "text/plain": [
       "<Figure size 1000x800 with 0 Axes>"
      ]
     },
     "execution_count": 349,
     "metadata": {},
     "output_type": "execute_result"
    },
    {
     "data": {
      "text/plain": [
       "<Axes: xlabel='IS_WEEKEND', ylabel='QUANTITY'>"
      ]
     },
     "execution_count": 349,
     "metadata": {},
     "output_type": "execute_result"
    },
    {
     "data": {
      "text/plain": [
       "Text(0.5, 1.0, 'Average Quantity sold during holidays')"
      ]
     },
     "execution_count": 349,
     "metadata": {},
     "output_type": "execute_result"
    },
    {
     "data": {
      "text/plain": [
       "Text(0.5, 0, 'Price')"
      ]
     },
     "execution_count": 349,
     "metadata": {},
     "output_type": "execute_result"
    },
    {
     "data": {
      "text/plain": [
       "Text(0, 0.5, 'Average Quantity sold')"
      ]
     },
     "execution_count": 349,
     "metadata": {},
     "output_type": "execute_result"
    },
    {
     "name": "stderr",
     "output_type": "stream",
     "text": [
      "No artists with labels found to put in legend.  Note that artists whose label start with an underscore are ignored when legend() is called with no argument.\n"
     ]
    },
    {
     "data": {
      "text/plain": [
       "<matplotlib.legend.Legend at 0x3199ba110>"
      ]
     },
     "execution_count": 349,
     "metadata": {},
     "output_type": "execute_result"
    },
    {
     "data": {
      "image/png": "[encoded data removed]",
      "text/plain": [
       "<Figure size 1000x800 with 1 Axes>"
      ]
     },
     "metadata": {},
     "output_type": "display_data"
    }
   ],
   "source": [
    "plt.figure(figsize= (10,8))\n",
    "sns.barplot(x = 'IS_WEEKEND', y = 'QUANTITY', data = weekend_price_df)\n",
    "plt.title('Average Quantity sold during holidays')\n",
    "plt.xlabel('Price')\n",
    "plt.ylabel('Average Quantity sold')\n",
    "plt.legend()\n",
    "plt.show()"
   ]
  },
  {
   "cell_type": "code",
   "execution_count": 350,
   "metadata": {},
   "outputs": [],
   "source": [
    "weekend_price_df = final_table.groupby(['IS_WEEKEND','ITEM_NAME'])['PRICE','QUANTITY'].mean().reset_index()"
   ]
  },
  {
   "cell_type": "code",
   "execution_count": 351,
   "metadata": {},
   "outputs": [
    {
     "data": {
      "text/plain": [
       "<Figure size 1000x800 with 0 Axes>"
      ]
     },
     "execution_count": 351,
     "metadata": {},
     "output_type": "execute_result"
    },
    {
     "data": {
      "text/plain": [
       "<Axes: xlabel='IS_WEEKEND', ylabel='QUANTITY'>"
      ]
     },
     "execution_count": 351,
     "metadata": {},
     "output_type": "execute_result"
    },
    {
     "data": {
      "text/plain": [
       "Text(0.5, 1.0, 'Average Quantity sold during holidays')"
      ]
     },
     "execution_count": 351,
     "metadata": {},
     "output_type": "execute_result"
    },
    {
     "data": {
      "text/plain": [
       "Text(0.5, 0, 'Price')"
      ]
     },
     "execution_count": 351,
     "metadata": {},
     "output_type": "execute_result"
    },
    {
     "data": {
      "text/plain": [
       "Text(0, 0.5, 'Average Quantity sold')"
      ]
     },
     "execution_count": 351,
     "metadata": {},
     "output_type": "execute_result"
    },
    {
     "data": {
      "text/plain": [
       "<matplotlib.legend.Legend at 0x3182a3f70>"
      ]
     },
     "execution_count": 351,
     "metadata": {},
     "output_type": "execute_result"
    },
    {
     "data": {
      "image/png": "[encoded data removed]",
      "text/plain": [
       "<Figure size 1000x800 with 1 Axes>"
      ]
     },
     "metadata": {},
     "output_type": "display_data"
    }
   ],
   "source": [
    "plt.figure(figsize= (10,8))\n",
    "sns.barplot(x = 'IS_WEEKEND', y = 'QUANTITY', hue = 'ITEM_NAME', data = weekend_price_df)\n",
    "plt.title('Average Quantity sold during holidays')\n",
    "plt.xlabel('Price')\n",
    "plt.ylabel('Average Quantity sold')\n",
    "plt.legend()\n",
    "plt.show()"
   ]
  },
  {
   "cell_type": "code",
   "execution_count": 352,
   "metadata": {},
   "outputs": [
    {
     "data": {
      "text/plain": [
       "<Figure size 1000x800 with 0 Axes>"
      ]
     },
     "execution_count": 352,
     "metadata": {},
     "output_type": "execute_result"
    },
    {
     "data": {
      "text/plain": [
       "<Axes: xlabel='IS_WEEKEND', ylabel='PRICE'>"
      ]
     },
     "execution_count": 352,
     "metadata": {},
     "output_type": "execute_result"
    },
    {
     "data": {
      "text/plain": [
       "Text(0.5, 1.0, 'Average Quantity sold during holidays')"
      ]
     },
     "execution_count": 352,
     "metadata": {},
     "output_type": "execute_result"
    },
    {
     "data": {
      "text/plain": [
       "Text(0.5, 0, 'Price')"
      ]
     },
     "execution_count": 352,
     "metadata": {},
     "output_type": "execute_result"
    },
    {
     "data": {
      "text/plain": [
       "Text(0, 0.5, 'Average Quantity sold')"
      ]
     },
     "execution_count": 352,
     "metadata": {},
     "output_type": "execute_result"
    },
    {
     "data": {
      "text/plain": [
       "<matplotlib.legend.Legend at 0x319825600>"
      ]
     },
     "execution_count": 352,
     "metadata": {},
     "output_type": "execute_result"
    },
    {
     "data": {
      "image/png": "[encoded data removed]",
      "text/plain": [
       "<Figure size 1000x800 with 1 Axes>"
      ]
     },
     "metadata": {},
     "output_type": "display_data"
    }
   ],
   "source": [
    "plt.figure(figsize= (10,8))\n",
    "sns.barplot(x = 'IS_WEEKEND', y = 'PRICE', hue = 'ITEM_NAME', data = weekend_price_df)\n",
    "plt.title('Average Quantity sold during holidays')\n",
    "plt.xlabel('Price')\n",
    "plt.ylabel('Average Quantity sold')\n",
    "plt.legend()\n",
    "plt.show()"
   ]
  },
  {
   "cell_type": "code",
   "execution_count": 353,
   "metadata": {},
   "outputs": [],
   "source": [
    "weekend_price_df = final_table.groupby(['IS_SCHOOLBREAK'])['PRICE','QUANTITY'].mean().reset_index()"
   ]
  },
  {
   "cell_type": "code",
   "execution_count": 354,
   "metadata": {},
   "outputs": [
    {
     "data": {
      "text/plain": [
       "<Figure size 1000x800 with 0 Axes>"
      ]
     },
     "execution_count": 354,
     "metadata": {},
     "output_type": "execute_result"
    },
    {
     "data": {
      "text/plain": [
       "<Axes: xlabel='IS_SCHOOLBREAK', ylabel='QUANTITY'>"
      ]
     },
     "execution_count": 354,
     "metadata": {},
     "output_type": "execute_result"
    },
    {
     "data": {
      "text/plain": [
       "Text(0.5, 1.0, 'Average Quantity sold during holidays')"
      ]
     },
     "execution_count": 354,
     "metadata": {},
     "output_type": "execute_result"
    },
    {
     "data": {
      "text/plain": [
       "Text(0.5, 0, 'Price')"
      ]
     },
     "execution_count": 354,
     "metadata": {},
     "output_type": "execute_result"
    },
    {
     "data": {
      "text/plain": [
       "Text(0, 0.5, 'Average Quantity sold')"
      ]
     },
     "execution_count": 354,
     "metadata": {},
     "output_type": "execute_result"
    },
    {
     "name": "stderr",
     "output_type": "stream",
     "text": [
      "No artists with labels found to put in legend.  Note that artists whose label start with an underscore are ignored when legend() is called with no argument.\n"
     ]
    },
    {
     "data": {
      "text/plain": [
       "<matplotlib.legend.Legend at 0x31a176800>"
      ]
     },
     "execution_count": 354,
     "metadata": {},
     "output_type": "execute_result"
    },
    {
     "data": {
      "image/png": "[encoded data removed]",
      "text/plain": [
       "<Figure size 1000x800 with 1 Axes>"
      ]
     },
     "metadata": {},
     "output_type": "display_data"
    }
   ],
   "source": [
    "plt.figure(figsize= (10,8))\n",
    "sns.barplot(x = 'IS_SCHOOLBREAK', y = 'QUANTITY', data = weekend_price_df)\n",
    "plt.title('Average Quantity sold during holidays')\n",
    "plt.xlabel('Price')\n",
    "plt.ylabel('Average Quantity sold')\n",
    "plt.legend()\n",
    "plt.show()"
   ]
  },
  {
   "cell_type": "code",
   "execution_count": null,
   "metadata": {},
   "outputs": [],
   "source": []
  },
  {
   "cell_type": "code",
   "execution_count": 355,
   "metadata": {},
   "outputs": [
    {
     "data": {
      "text/plain": [
       "<Figure size 2000x800 with 0 Axes>"
      ]
     },
     "execution_count": 355,
     "metadata": {},
     "output_type": "execute_result"
    },
    {
     "data": {
      "text/plain": [
       "<seaborn.axisgrid.PairGrid at 0x319824b50>"
      ]
     },
     "execution_count": 355,
     "metadata": {},
     "output_type": "execute_result"
    },
    {
     "data": {
      "text/plain": [
       "<Figure size 2000x800 with 0 Axes>"
      ]
     },
     "metadata": {},
     "output_type": "display_data"
    },
    {
     "data": {
      "image/png": "[encoded data removed]",
      "text/plain": [
       "<Figure size 640.375x500 with 6 Axes>"
      ]
     },
     "metadata": {},
     "output_type": "display_data"
    }
   ],
   "source": [
    "# pairplot for combined data \n",
    "plt.figure(figsize=(20,8))\n",
    "sns.pairplot(final_table[['PRICE','QUANTITY','ITEM_NAME']], hue = 'ITEM_NAME', plot_kws={'alpha':0.1})"
   ]
  },
  {
   "cell_type": "code",
   "execution_count": 356,
   "metadata": {},
   "outputs": [
    {
     "data": {
      "text/plain": [
       "<Figure size 2000x800 with 0 Axes>"
      ]
     },
     "execution_count": 356,
     "metadata": {},
     "output_type": "execute_result"
    },
    {
     "data": {
      "text/plain": [
       "<seaborn.axisgrid.PairGrid at 0x3182cc7f0>"
      ]
     },
     "execution_count": 356,
     "metadata": {},
     "output_type": "execute_result"
    },
    {
     "data": {
      "text/plain": [
       "<Figure size 2000x800 with 0 Axes>"
      ]
     },
     "metadata": {},
     "output_type": "display_data"
    },
    {
     "data": {
      "image/png": "[encoded data removed]",
      "text/plain": [
       "<Figure size 640.375x500 with 6 Axes>"
      ]
     },
     "metadata": {},
     "output_type": "display_data"
    }
   ],
   "source": [
    "# pairplot for combined data \n",
    "plt.figure(figsize=(20,8))\n",
    "sns.pairplot(final_table[['PRICE','Revenue','ITEM_NAME']], hue = 'ITEM_NAME', plot_kws={'alpha':0.1})"
   ]
  },
  {
   "cell_type": "code",
   "execution_count": 357,
   "metadata": {},
   "outputs": [
    {
     "data": {
      "text/html": [
       "<div>\n",
       "<style scoped>\n",
       "    .dataframe tbody tr th:only-of-type {\n",
       "        vertical-align: middle;\n",
       "    }\n",
       "\n",
       "    .dataframe tbody tr th {\n",
       "        vertical-align: top;\n",
       "    }\n",
       "\n",
       "    .dataframe thead th {\n",
       "        text-align: right;\n",
       "    }\n",
       "</style>\n",
       "<table border=\"1\" class=\"dataframe\">\n",
       "  <thead>\n",
       "    <tr style=\"text-align: right;\">\n",
       "      <th></th>\n",
       "      <th>CALENDAR_DATE</th>\n",
       "      <th>YEAR</th>\n",
       "      <th>HOLIDAY</th>\n",
       "      <th>IS_WEEKEND</th>\n",
       "      <th>IS_SCHOOLBREAK</th>\n",
       "      <th>AVERAGE_TEMPERATURE</th>\n",
       "      <th>IS_OUTDOOR</th>\n",
       "      <th>PRICE</th>\n",
       "      <th>QUANTITY</th>\n",
       "      <th>SELL_ID</th>\n",
       "      <th>SELL_CATEGORY_sold</th>\n",
       "      <th>ITEM_ID</th>\n",
       "      <th>ITEM_NAME</th>\n",
       "      <th>is_event</th>\n",
       "      <th>Revenue</th>\n",
       "    </tr>\n",
       "  </thead>\n",
       "  <tbody>\n",
       "    <tr>\n",
       "      <th>0</th>\n",
       "      <td>2012-01-01</td>\n",
       "      <td>2012</td>\n",
       "      <td>New Year</td>\n",
       "      <td>1</td>\n",
       "      <td>0</td>\n",
       "      <td>24.8</td>\n",
       "      <td>0</td>\n",
       "      <td>15.50</td>\n",
       "      <td>46</td>\n",
       "      <td>1070</td>\n",
       "      <td>0</td>\n",
       "      <td>7821</td>\n",
       "      <td>BURGER</td>\n",
       "      <td>1</td>\n",
       "      <td>713.00</td>\n",
       "    </tr>\n",
       "    <tr>\n",
       "      <th>1</th>\n",
       "      <td>2012-01-01</td>\n",
       "      <td>2012</td>\n",
       "      <td>New Year</td>\n",
       "      <td>1</td>\n",
       "      <td>0</td>\n",
       "      <td>24.8</td>\n",
       "      <td>0</td>\n",
       "      <td>12.75</td>\n",
       "      <td>18</td>\n",
       "      <td>2052</td>\n",
       "      <td>2</td>\n",
       "      <td>6249</td>\n",
       "      <td>LEMONADE</td>\n",
       "      <td>1</td>\n",
       "      <td>229.50</td>\n",
       "    </tr>\n",
       "    <tr>\n",
       "      <th>2</th>\n",
       "      <td>2012-01-01</td>\n",
       "      <td>2012</td>\n",
       "      <td>New Year</td>\n",
       "      <td>1</td>\n",
       "      <td>0</td>\n",
       "      <td>24.8</td>\n",
       "      <td>0</td>\n",
       "      <td>12.75</td>\n",
       "      <td>18</td>\n",
       "      <td>2052</td>\n",
       "      <td>2</td>\n",
       "      <td>7821</td>\n",
       "      <td>BURGER</td>\n",
       "      <td>1</td>\n",
       "      <td>229.50</td>\n",
       "    </tr>\n",
       "    <tr>\n",
       "      <th>3</th>\n",
       "      <td>2012-01-01</td>\n",
       "      <td>2012</td>\n",
       "      <td>New Year</td>\n",
       "      <td>1</td>\n",
       "      <td>0</td>\n",
       "      <td>24.8</td>\n",
       "      <td>0</td>\n",
       "      <td>12.73</td>\n",
       "      <td>22</td>\n",
       "      <td>2051</td>\n",
       "      <td>2</td>\n",
       "      <td>7821</td>\n",
       "      <td>BURGER</td>\n",
       "      <td>1</td>\n",
       "      <td>280.06</td>\n",
       "    </tr>\n",
       "    <tr>\n",
       "      <th>4</th>\n",
       "      <td>2012-01-01</td>\n",
       "      <td>2012</td>\n",
       "      <td>New Year</td>\n",
       "      <td>1</td>\n",
       "      <td>0</td>\n",
       "      <td>24.8</td>\n",
       "      <td>0</td>\n",
       "      <td>12.73</td>\n",
       "      <td>22</td>\n",
       "      <td>2051</td>\n",
       "      <td>2</td>\n",
       "      <td>5030</td>\n",
       "      <td>COKE</td>\n",
       "      <td>1</td>\n",
       "      <td>280.06</td>\n",
       "    </tr>\n",
       "  </tbody>\n",
       "</table>\n",
       "</div>"
      ],
      "text/plain": [
       "  CALENDAR_DATE  YEAR   HOLIDAY  IS_WEEKEND  IS_SCHOOLBREAK  \\\n",
       "0    2012-01-01  2012  New Year           1               0   \n",
       "1    2012-01-01  2012  New Year           1               0   \n",
       "2    2012-01-01  2012  New Year           1               0   \n",
       "3    2012-01-01  2012  New Year           1               0   \n",
       "4    2012-01-01  2012  New Year           1               0   \n",
       "\n",
       "   AVERAGE_TEMPERATURE  IS_OUTDOOR  PRICE  QUANTITY  SELL_ID  \\\n",
       "0                 24.8           0  15.50        46     1070   \n",
       "1                 24.8           0  12.75        18     2052   \n",
       "2                 24.8           0  12.75        18     2052   \n",
       "3                 24.8           0  12.73        22     2051   \n",
       "4                 24.8           0  12.73        22     2051   \n",
       "\n",
       "   SELL_CATEGORY_sold  ITEM_ID ITEM_NAME  is_event  Revenue  \n",
       "0                   0     7821    BURGER         1   713.00  \n",
       "1                   2     6249  LEMONADE         1   229.50  \n",
       "2                   2     7821    BURGER         1   229.50  \n",
       "3                   2     7821    BURGER         1   280.06  \n",
       "4                   2     5030      COKE         1   280.06  "
      ]
     },
     "execution_count": 357,
     "metadata": {},
     "output_type": "execute_result"
    }
   ],
   "source": [
    "final_table.head()"
   ]
  },
  {
   "cell_type": "code",
   "execution_count": 358,
   "metadata": {},
   "outputs": [
    {
     "data": {
      "text/html": [
       "<div>\n",
       "<style scoped>\n",
       "    .dataframe tbody tr th:only-of-type {\n",
       "        vertical-align: middle;\n",
       "    }\n",
       "\n",
       "    .dataframe tbody tr th {\n",
       "        vertical-align: top;\n",
       "    }\n",
       "\n",
       "    .dataframe thead th {\n",
       "        text-align: right;\n",
       "    }\n",
       "</style>\n",
       "<table border=\"1\" class=\"dataframe\">\n",
       "  <thead>\n",
       "    <tr style=\"text-align: right;\">\n",
       "      <th></th>\n",
       "      <th>CALENDAR_DATE</th>\n",
       "      <th>YEAR</th>\n",
       "      <th>HOLIDAY</th>\n",
       "      <th>IS_WEEKEND</th>\n",
       "      <th>IS_SCHOOLBREAK</th>\n",
       "      <th>AVERAGE_TEMPERATURE</th>\n",
       "      <th>IS_OUTDOOR</th>\n",
       "      <th>PRICE</th>\n",
       "      <th>QUANTITY</th>\n",
       "      <th>SELL_ID</th>\n",
       "      <th>SELL_CATEGORY_sold</th>\n",
       "      <th>ITEM_ID</th>\n",
       "      <th>ITEM_NAME</th>\n",
       "      <th>is_event</th>\n",
       "      <th>Revenue</th>\n",
       "      <th>ITEM_NAME_BURGER</th>\n",
       "      <th>ITEM_NAME_COFFEE</th>\n",
       "      <th>ITEM_NAME_COKE</th>\n",
       "      <th>ITEM_NAME_LEMONADE</th>\n",
       "      <th>HOLIDAY_Labor Day</th>\n",
       "      <th>HOLIDAY_Luner New Year</th>\n",
       "      <th>HOLIDAY_Mid-Autumn Day</th>\n",
       "      <th>HOLIDAY_National Day</th>\n",
       "      <th>HOLIDAY_New Year</th>\n",
       "      <th>HOLIDAY_Non Holiday</th>\n",
       "      <th>HOLIDAY_Qing Ming Festival</th>\n",
       "      <th>HOLIDAY_WWII Celebration</th>\n",
       "    </tr>\n",
       "  </thead>\n",
       "  <tbody>\n",
       "    <tr>\n",
       "      <th>0</th>\n",
       "      <td>2012-01-01</td>\n",
       "      <td>2012</td>\n",
       "      <td>New Year</td>\n",
       "      <td>1</td>\n",
       "      <td>0</td>\n",
       "      <td>24.8</td>\n",
       "      <td>0</td>\n",
       "      <td>15.50</td>\n",
       "      <td>46</td>\n",
       "      <td>1070</td>\n",
       "      <td>0</td>\n",
       "      <td>7821</td>\n",
       "      <td>BURGER</td>\n",
       "      <td>1</td>\n",
       "      <td>713.00</td>\n",
       "      <td>1.0</td>\n",
       "      <td>0.0</td>\n",
       "      <td>0.0</td>\n",
       "      <td>0.0</td>\n",
       "      <td>0.0</td>\n",
       "      <td>0.0</td>\n",
       "      <td>0.0</td>\n",
       "      <td>0.0</td>\n",
       "      <td>1.0</td>\n",
       "      <td>0.0</td>\n",
       "      <td>0.0</td>\n",
       "      <td>0.0</td>\n",
       "    </tr>\n",
       "    <tr>\n",
       "      <th>1</th>\n",
       "      <td>2012-01-01</td>\n",
       "      <td>2012</td>\n",
       "      <td>New Year</td>\n",
       "      <td>1</td>\n",
       "      <td>0</td>\n",
       "      <td>24.8</td>\n",
       "      <td>0</td>\n",
       "      <td>12.75</td>\n",
       "      <td>18</td>\n",
       "      <td>2052</td>\n",
       "      <td>2</td>\n",
       "      <td>6249</td>\n",
       "      <td>LEMONADE</td>\n",
       "      <td>1</td>\n",
       "      <td>229.50</td>\n",
       "      <td>0.0</td>\n",
       "      <td>0.0</td>\n",
       "      <td>0.0</td>\n",
       "      <td>1.0</td>\n",
       "      <td>0.0</td>\n",
       "      <td>0.0</td>\n",
       "      <td>0.0</td>\n",
       "      <td>0.0</td>\n",
       "      <td>1.0</td>\n",
       "      <td>0.0</td>\n",
       "      <td>0.0</td>\n",
       "      <td>0.0</td>\n",
       "    </tr>\n",
       "    <tr>\n",
       "      <th>2</th>\n",
       "      <td>2012-01-01</td>\n",
       "      <td>2012</td>\n",
       "      <td>New Year</td>\n",
       "      <td>1</td>\n",
       "      <td>0</td>\n",
       "      <td>24.8</td>\n",
       "      <td>0</td>\n",
       "      <td>12.75</td>\n",
       "      <td>18</td>\n",
       "      <td>2052</td>\n",
       "      <td>2</td>\n",
       "      <td>7821</td>\n",
       "      <td>BURGER</td>\n",
       "      <td>1</td>\n",
       "      <td>229.50</td>\n",
       "      <td>1.0</td>\n",
       "      <td>0.0</td>\n",
       "      <td>0.0</td>\n",
       "      <td>0.0</td>\n",
       "      <td>0.0</td>\n",
       "      <td>0.0</td>\n",
       "      <td>0.0</td>\n",
       "      <td>0.0</td>\n",
       "      <td>1.0</td>\n",
       "      <td>0.0</td>\n",
       "      <td>0.0</td>\n",
       "      <td>0.0</td>\n",
       "    </tr>\n",
       "    <tr>\n",
       "      <th>3</th>\n",
       "      <td>2012-01-01</td>\n",
       "      <td>2012</td>\n",
       "      <td>New Year</td>\n",
       "      <td>1</td>\n",
       "      <td>0</td>\n",
       "      <td>24.8</td>\n",
       "      <td>0</td>\n",
       "      <td>12.73</td>\n",
       "      <td>22</td>\n",
       "      <td>2051</td>\n",
       "      <td>2</td>\n",
       "      <td>7821</td>\n",
       "      <td>BURGER</td>\n",
       "      <td>1</td>\n",
       "      <td>280.06</td>\n",
       "      <td>1.0</td>\n",
       "      <td>0.0</td>\n",
       "      <td>0.0</td>\n",
       "      <td>0.0</td>\n",
       "      <td>0.0</td>\n",
       "      <td>0.0</td>\n",
       "      <td>0.0</td>\n",
       "      <td>0.0</td>\n",
       "      <td>1.0</td>\n",
       "      <td>0.0</td>\n",
       "      <td>0.0</td>\n",
       "      <td>0.0</td>\n",
       "    </tr>\n",
       "    <tr>\n",
       "      <th>4</th>\n",
       "      <td>2012-01-01</td>\n",
       "      <td>2012</td>\n",
       "      <td>New Year</td>\n",
       "      <td>1</td>\n",
       "      <td>0</td>\n",
       "      <td>24.8</td>\n",
       "      <td>0</td>\n",
       "      <td>12.73</td>\n",
       "      <td>22</td>\n",
       "      <td>2051</td>\n",
       "      <td>2</td>\n",
       "      <td>5030</td>\n",
       "      <td>COKE</td>\n",
       "      <td>1</td>\n",
       "      <td>280.06</td>\n",
       "      <td>0.0</td>\n",
       "      <td>0.0</td>\n",
       "      <td>1.0</td>\n",
       "      <td>0.0</td>\n",
       "      <td>0.0</td>\n",
       "      <td>0.0</td>\n",
       "      <td>0.0</td>\n",
       "      <td>0.0</td>\n",
       "      <td>1.0</td>\n",
       "      <td>0.0</td>\n",
       "      <td>0.0</td>\n",
       "      <td>0.0</td>\n",
       "    </tr>\n",
       "  </tbody>\n",
       "</table>\n",
       "</div>"
      ],
      "text/plain": [
       "  CALENDAR_DATE  YEAR   HOLIDAY  IS_WEEKEND  IS_SCHOOLBREAK  \\\n",
       "0    2012-01-01  2012  New Year           1               0   \n",
       "1    2012-01-01  2012  New Year           1               0   \n",
       "2    2012-01-01  2012  New Year           1               0   \n",
       "3    2012-01-01  2012  New Year           1               0   \n",
       "4    2012-01-01  2012  New Year           1               0   \n",
       "\n",
       "   AVERAGE_TEMPERATURE  IS_OUTDOOR  PRICE  QUANTITY  SELL_ID  \\\n",
       "0                 24.8           0  15.50        46     1070   \n",
       "1                 24.8           0  12.75        18     2052   \n",
       "2                 24.8           0  12.75        18     2052   \n",
       "3                 24.8           0  12.73        22     2051   \n",
       "4                 24.8           0  12.73        22     2051   \n",
       "\n",
       "   SELL_CATEGORY_sold  ITEM_ID ITEM_NAME  is_event  Revenue  ITEM_NAME_BURGER  \\\n",
       "0                   0     7821    BURGER         1   713.00               1.0   \n",
       "1                   2     6249  LEMONADE         1   229.50               0.0   \n",
       "2                   2     7821    BURGER         1   229.50               1.0   \n",
       "3                   2     7821    BURGER         1   280.06               1.0   \n",
       "4                   2     5030      COKE         1   280.06               0.0   \n",
       "\n",
       "   ITEM_NAME_COFFEE  ITEM_NAME_COKE  ITEM_NAME_LEMONADE  HOLIDAY_Labor Day  \\\n",
       "0               0.0             0.0                 0.0                0.0   \n",
       "1               0.0             0.0                 1.0                0.0   \n",
       "2               0.0             0.0                 0.0                0.0   \n",
       "3               0.0             0.0                 0.0                0.0   \n",
       "4               0.0             1.0                 0.0                0.0   \n",
       "\n",
       "   HOLIDAY_Luner New Year  HOLIDAY_Mid-Autumn Day  HOLIDAY_National Day  \\\n",
       "0                     0.0                     0.0                   0.0   \n",
       "1                     0.0                     0.0                   0.0   \n",
       "2                     0.0                     0.0                   0.0   \n",
       "3                     0.0                     0.0                   0.0   \n",
       "4                     0.0                     0.0                   0.0   \n",
       "\n",
       "   HOLIDAY_New Year  HOLIDAY_Non Holiday  HOLIDAY_Qing Ming Festival  \\\n",
       "0               1.0                  0.0                         0.0   \n",
       "1               1.0                  0.0                         0.0   \n",
       "2               1.0                  0.0                         0.0   \n",
       "3               1.0                  0.0                         0.0   \n",
       "4               1.0                  0.0                         0.0   \n",
       "\n",
       "   HOLIDAY_WWII Celebration  \n",
       "0                       0.0  \n",
       "1                       0.0  \n",
       "2                       0.0  \n",
       "3                       0.0  \n",
       "4                       0.0  "
      ]
     },
     "execution_count": 358,
     "metadata": {},
     "output_type": "execute_result"
    }
   ],
   "source": [
    "from sklearn.preprocessing import OneHotEncoder\n",
    "\n",
    "# One-hot encoding the 'item' column\n",
    "encoder_item = OneHotEncoder(sparse=False)\n",
    "\n",
    "item_encoded = encoder_item.fit_transform(final_table[['ITEM_NAME']])\n",
    "\n",
    "#Creating a DataFrame for the encoded 'item' data\n",
    "df_encoded = pd.DataFrame(item_encoded, columns = encoder_item.get_feature_names_out(['ITEM_NAME']))\n",
    "\n",
    "# Concatenating the encoded 'item' data with the original data\n",
    "final_table = pd.concat([final_table, df_encoded], axis=1)\n",
    "\n",
    "# One-hot encoding the 'holiday' column as well\n",
    "encoder_holiday = OneHotEncoder(sparse=False, drop='first') # Define a new encoder for the holiday column\n",
    "\n",
    "holiday_encoded = encoder_holiday.fit_transform(final_table[['HOLIDAY']])\n",
    "encoded_holiday_df = pd.DataFrame (holiday_encoded, columns=encoder_holiday.get_feature_names_out(['HOLIDAY']))\n",
    "\n",
    "# Concatenating the encoded 'holiday' data with the original data\n",
    "final_table = pd.concat([final_table, encoded_holiday_df], axis=1)\n",
    "\n",
    "\n",
    "#Displaying the first few rows of the modified dataset\n",
    "final_table.head()"
   ]
  },
  {
   "cell_type": "code",
   "execution_count": 359,
   "metadata": {},
   "outputs": [],
   "source": [
    "final_table.drop(columns= ['ITEM_NAME','ITEM_ID','HOLIDAY','CALENDAR_DATE','YEAR' , 'SELL_ID'], inplace = True)"
   ]
  },
  {
   "cell_type": "markdown",
   "metadata": {},
   "source": [
    "### Model Building"
   ]
  },
  {
   "cell_type": "code",
   "execution_count": 360,
   "metadata": {},
   "outputs": [],
   "source": [
    "y = final_table['QUANTITY']\n",
    "X = final_table.drop('QUANTITY', axis = 1)"
   ]
  },
  {
   "cell_type": "code",
   "execution_count": 361,
   "metadata": {},
   "outputs": [],
   "source": [
    "X = sm.add_constant(X)\n",
    "X['is_event'] = pd.to_numeric(X['is_event'])\n",
    "\n",
    "model = sm.OLS(y , X).fit()"
   ]
  },
  {
   "cell_type": "code",
   "execution_count": 362,
   "metadata": {},
   "outputs": [
    {
     "data": {
      "text/html": [
       "<table class=\"simpletable\">\n",
       "<caption>OLS Regression Results</caption>\n",
       "<tr>\n",
       "  <th>Dep. Variable:</th>        <td>QUANTITY</td>     <th>  R-squared:         </th> <td>   0.994</td> \n",
       "</tr>\n",
       "<tr>\n",
       "  <th>Model:</th>                   <td>OLS</td>       <th>  Adj. R-squared:    </th> <td>   0.994</td> \n",
       "</tr>\n",
       "<tr>\n",
       "  <th>Method:</th>             <td>Least Squares</td>  <th>  F-statistic:       </th> <td>9.831e+04</td>\n",
       "</tr>\n",
       "<tr>\n",
       "  <th>Date:</th>             <td>Sat, 13 Apr 2024</td> <th>  Prob (F-statistic):</th>  <td>  0.00</td>  \n",
       "</tr>\n",
       "<tr>\n",
       "  <th>Time:</th>                 <td>15:00:21</td>     <th>  Log-Likelihood:    </th> <td> -20692.</td> \n",
       "</tr>\n",
       "<tr>\n",
       "  <th>No. Observations:</th>      <td> 10840</td>      <th>  AIC:               </th> <td>4.142e+04</td>\n",
       "</tr>\n",
       "<tr>\n",
       "  <th>Df Residuals:</th>          <td> 10821</td>      <th>  BIC:               </th> <td>4.156e+04</td>\n",
       "</tr>\n",
       "<tr>\n",
       "  <th>Df Model:</th>              <td>    18</td>      <th>                     </th>     <td> </td>    \n",
       "</tr>\n",
       "<tr>\n",
       "  <th>Covariance Type:</th>      <td>nonrobust</td>    <th>                     </th>     <td> </td>    \n",
       "</tr>\n",
       "</table>\n",
       "<table class=\"simpletable\">\n",
       "<tr>\n",
       "               <td></td>                 <th>coef</th>     <th>std err</th>      <th>t</th>      <th>P>|t|</th>  <th>[0.025</th>    <th>0.975]</th>  \n",
       "</tr>\n",
       "<tr>\n",
       "  <th>const</th>                      <td>   22.0915</td> <td>    0.214</td> <td>  103.086</td> <td> 0.000</td> <td>   21.671</td> <td>   22.512</td>\n",
       "</tr>\n",
       "<tr>\n",
       "  <th>IS_WEEKEND</th>                 <td>   -0.0203</td> <td>    0.041</td> <td>   -0.496</td> <td> 0.620</td> <td>   -0.100</td> <td>    0.060</td>\n",
       "</tr>\n",
       "<tr>\n",
       "  <th>IS_SCHOOLBREAK</th>             <td>   -0.0913</td> <td>    0.043</td> <td>   -2.117</td> <td> 0.034</td> <td>   -0.176</td> <td>   -0.007</td>\n",
       "</tr>\n",
       "<tr>\n",
       "  <th>AVERAGE_TEMPERATURE</th>        <td>   -0.0017</td> <td>    0.001</td> <td>   -1.628</td> <td> 0.104</td> <td>   -0.004</td> <td>    0.000</td>\n",
       "</tr>\n",
       "<tr>\n",
       "  <th>IS_OUTDOOR</th>                 <td>   -0.0095</td> <td>    0.058</td> <td>   -0.163</td> <td> 0.871</td> <td>   -0.124</td> <td>    0.105</td>\n",
       "</tr>\n",
       "<tr>\n",
       "  <th>PRICE</th>                      <td>   -3.4875</td> <td>    0.019</td> <td> -186.232</td> <td> 0.000</td> <td>   -3.524</td> <td>   -3.451</td>\n",
       "</tr>\n",
       "<tr>\n",
       "  <th>SELL_CATEGORY_sold</th>         <td>    2.9088</td> <td>    0.071</td> <td>   40.746</td> <td> 0.000</td> <td>    2.769</td> <td>    3.049</td>\n",
       "</tr>\n",
       "<tr>\n",
       "  <th>is_event</th>                   <td>   11.0144</td> <td>    0.148</td> <td>   74.615</td> <td> 0.000</td> <td>   10.725</td> <td>   11.304</td>\n",
       "</tr>\n",
       "<tr>\n",
       "  <th>Revenue</th>                    <td>    0.0779</td> <td>    0.000</td> <td>  581.356</td> <td> 0.000</td> <td>    0.078</td> <td>    0.078</td>\n",
       "</tr>\n",
       "<tr>\n",
       "  <th>ITEM_NAME_BURGER</th>           <td>    5.4052</td> <td>    0.057</td> <td>   94.554</td> <td> 0.000</td> <td>    5.293</td> <td>    5.517</td>\n",
       "</tr>\n",
       "<tr>\n",
       "  <th>ITEM_NAME_COFFEE</th>           <td>    6.3646</td> <td>    0.075</td> <td>   85.241</td> <td> 0.000</td> <td>    6.218</td> <td>    6.511</td>\n",
       "</tr>\n",
       "<tr>\n",
       "  <th>ITEM_NAME_COKE</th>             <td>    5.8938</td> <td>    0.066</td> <td>   89.478</td> <td> 0.000</td> <td>    5.765</td> <td>    6.023</td>\n",
       "</tr>\n",
       "<tr>\n",
       "  <th>ITEM_NAME_LEMONADE</th>         <td>    4.4279</td> <td>    0.058</td> <td>   76.544</td> <td> 0.000</td> <td>    4.315</td> <td>    4.541</td>\n",
       "</tr>\n",
       "<tr>\n",
       "  <th>HOLIDAY_Labor Day</th>          <td>    0.0977</td> <td>    0.236</td> <td>    0.414</td> <td> 0.679</td> <td>   -0.365</td> <td>    0.561</td>\n",
       "</tr>\n",
       "<tr>\n",
       "  <th>HOLIDAY_Luner New Year</th>     <td>    0.2915</td> <td>    0.207</td> <td>    1.406</td> <td> 0.160</td> <td>   -0.115</td> <td>    0.698</td>\n",
       "</tr>\n",
       "<tr>\n",
       "  <th>HOLIDAY_Mid-Autumn Day</th>     <td>    0.3990</td> <td>    0.275</td> <td>    1.452</td> <td> 0.147</td> <td>   -0.140</td> <td>    0.938</td>\n",
       "</tr>\n",
       "<tr>\n",
       "  <th>HOLIDAY_National Day</th>       <td>   -0.0997</td> <td>    0.209</td> <td>   -0.476</td> <td> 0.634</td> <td>   -0.510</td> <td>    0.311</td>\n",
       "</tr>\n",
       "<tr>\n",
       "  <th>HOLIDAY_New Year</th>           <td>    0.3110</td> <td>    0.251</td> <td>    1.238</td> <td> 0.216</td> <td>   -0.182</td> <td>    0.803</td>\n",
       "</tr>\n",
       "<tr>\n",
       "  <th>HOLIDAY_Non Holiday</th>        <td>   11.0771</td> <td>    0.125</td> <td>   88.600</td> <td> 0.000</td> <td>   10.832</td> <td>   11.322</td>\n",
       "</tr>\n",
       "<tr>\n",
       "  <th>HOLIDAY_Qing Ming Festival</th> <td>    0.2794</td> <td>    0.237</td> <td>    1.179</td> <td> 0.238</td> <td>   -0.185</td> <td>    0.744</td>\n",
       "</tr>\n",
       "<tr>\n",
       "  <th>HOLIDAY_WWII Celebration</th>   <td>   -0.4444</td> <td>    0.373</td> <td>   -1.192</td> <td> 0.233</td> <td>   -1.175</td> <td>    0.287</td>\n",
       "</tr>\n",
       "</table>\n",
       "<table class=\"simpletable\">\n",
       "<tr>\n",
       "  <th>Omnibus:</th>       <td>757.510</td> <th>  Durbin-Watson:     </th> <td>   1.812</td>\n",
       "</tr>\n",
       "<tr>\n",
       "  <th>Prob(Omnibus):</th> <td> 0.000</td>  <th>  Jarque-Bera (JB):  </th> <td>3823.807</td>\n",
       "</tr>\n",
       "<tr>\n",
       "  <th>Skew:</th>          <td>-0.085</td>  <th>  Prob(JB):          </th> <td>    0.00</td>\n",
       "</tr>\n",
       "<tr>\n",
       "  <th>Kurtosis:</th>      <td> 5.905</td>  <th>  Cond. No.          </th> <td>6.97e+17</td>\n",
       "</tr>\n",
       "</table><br/><br/>Notes:<br/>[1] Standard Errors assume that the covariance matrix of the errors is correctly specified.<br/>[2] The smallest eigenvalue is 8.12e-27. This might indicate that there are<br/>strong multicollinearity problems or that the design matrix is singular."
      ],
      "text/plain": [
       "<class 'statsmodels.iolib.summary.Summary'>\n",
       "\"\"\"\n",
       "                            OLS Regression Results                            \n",
       "==============================================================================\n",
       "Dep. Variable:               QUANTITY   R-squared:                       0.994\n",
       "Model:                            OLS   Adj. R-squared:                  0.994\n",
       "Method:                 Least Squares   F-statistic:                 9.831e+04\n",
       "Date:                Sat, 13 Apr 2024   Prob (F-statistic):               0.00\n",
       "Time:                        15:00:21   Log-Likelihood:                -20692.\n",
       "No. Observations:               10840   AIC:                         4.142e+04\n",
       "Df Residuals:                   10821   BIC:                         4.156e+04\n",
       "Df Model:                          18                                         \n",
       "Covariance Type:            nonrobust                                         \n",
       "==============================================================================================\n",
       "                                 coef    std err          t      P>|t|      [0.025      0.975]\n",
       "----------------------------------------------------------------------------------------------\n",
       "const                         22.0915      0.214    103.086      0.000      21.671      22.512\n",
       "IS_WEEKEND                    -0.0203      0.041     -0.496      0.620      -0.100       0.060\n",
       "IS_SCHOOLBREAK                -0.0913      0.043     -2.117      0.034      -0.176      -0.007\n",
       "AVERAGE_TEMPERATURE           -0.0017      0.001     -1.628      0.104      -0.004       0.000\n",
       "IS_OUTDOOR                    -0.0095      0.058     -0.163      0.871      -0.124       0.105\n",
       "PRICE                         -3.4875      0.019   -186.232      0.000      -3.524      -3.451\n",
       "SELL_CATEGORY_sold             2.9088      0.071     40.746      0.000       2.769       3.049\n",
       "is_event                      11.0144      0.148     74.615      0.000      10.725      11.304\n",
       "Revenue                        0.0779      0.000    581.356      0.000       0.078       0.078\n",
       "ITEM_NAME_BURGER               5.4052      0.057     94.554      0.000       5.293       5.517\n",
       "ITEM_NAME_COFFEE               6.3646      0.075     85.241      0.000       6.218       6.511\n",
       "ITEM_NAME_COKE                 5.8938      0.066     89.478      0.000       5.765       6.023\n",
       "ITEM_NAME_LEMONADE             4.4279      0.058     76.544      0.000       4.315       4.541\n",
       "HOLIDAY_Labor Day              0.0977      0.236      0.414      0.679      -0.365       0.561\n",
       "HOLIDAY_Luner New Year         0.2915      0.207      1.406      0.160      -0.115       0.698\n",
       "HOLIDAY_Mid-Autumn Day         0.3990      0.275      1.452      0.147      -0.140       0.938\n",
       "HOLIDAY_National Day          -0.0997      0.209     -0.476      0.634      -0.510       0.311\n",
       "HOLIDAY_New Year               0.3110      0.251      1.238      0.216      -0.182       0.803\n",
       "HOLIDAY_Non Holiday           11.0771      0.125     88.600      0.000      10.832      11.322\n",
       "HOLIDAY_Qing Ming Festival     0.2794      0.237      1.179      0.238      -0.185       0.744\n",
       "HOLIDAY_WWII Celebration      -0.4444      0.373     -1.192      0.233      -1.175       0.287\n",
       "==============================================================================\n",
       "Omnibus:                      757.510   Durbin-Watson:                   1.812\n",
       "Prob(Omnibus):                  0.000   Jarque-Bera (JB):             3823.807\n",
       "Skew:                          -0.085   Prob(JB):                         0.00\n",
       "Kurtosis:                       5.905   Cond. No.                     6.97e+17\n",
       "==============================================================================\n",
       "\n",
       "Notes:\n",
       "[1] Standard Errors assume that the covariance matrix of the errors is correctly specified.\n",
       "[2] The smallest eigenvalue is 8.12e-27. This might indicate that there are\n",
       "strong multicollinearity problems or that the design matrix is singular.\n",
       "\"\"\""
      ]
     },
     "execution_count": 362,
     "metadata": {},
     "output_type": "execute_result"
    }
   ],
   "source": [
    "model.summary()"
   ]
  },
  {
   "cell_type": "markdown",
   "metadata": {},
   "source": [
    "#  Expectile Generalized Additive Models (GAM)"
   ]
  },
  {
   "cell_type": "code",
   "execution_count": 388,
   "metadata": {},
   "outputs": [
    {
     "data": {
      "text/plain": [
       "Non Holiday             10000\n",
       "Luner New Year            224\n",
       "National Day              168\n",
       "Qing Ming Festival         96\n",
       "Labor Day                  96\n",
       "Dragon Boat Festivel       96\n",
       "New Year                   80\n",
       "Mid-Autumn Day             56\n",
       "WWII Celebration           24\n",
       "Name: HOLIDAY, dtype: int64"
      ]
     },
     "execution_count": 388,
     "metadata": {},
     "output_type": "execute_result"
    }
   ],
   "source": [
    "gam_table.HOLIDAY.value_counts()"
   ]
  },
  {
   "cell_type": "code",
   "execution_count": 392,
   "metadata": {},
   "outputs": [
    {
     "data": {
      "text/html": [
       "<div>\n",
       "<style scoped>\n",
       "    .dataframe tbody tr th:only-of-type {\n",
       "        vertical-align: middle;\n",
       "    }\n",
       "\n",
       "    .dataframe tbody tr th {\n",
       "        vertical-align: top;\n",
       "    }\n",
       "\n",
       "    .dataframe thead th {\n",
       "        text-align: right;\n",
       "    }\n",
       "</style>\n",
       "<table border=\"1\" class=\"dataframe\">\n",
       "  <thead>\n",
       "    <tr style=\"text-align: right;\">\n",
       "      <th></th>\n",
       "      <th>CALENDAR_DATE</th>\n",
       "      <th>YEAR</th>\n",
       "      <th>HOLIDAY</th>\n",
       "      <th>IS_WEEKEND</th>\n",
       "      <th>IS_SCHOOLBREAK</th>\n",
       "      <th>AVERAGE_TEMPERATURE</th>\n",
       "      <th>IS_OUTDOOR</th>\n",
       "      <th>PRICE</th>\n",
       "      <th>QUANTITY</th>\n",
       "      <th>SELL_ID</th>\n",
       "      <th>SELL_CATEGORY_sold</th>\n",
       "      <th>ITEM_ID</th>\n",
       "      <th>ITEM_NAME</th>\n",
       "      <th>is_event</th>\n",
       "      <th>Revenue</th>\n",
       "    </tr>\n",
       "  </thead>\n",
       "  <tbody>\n",
       "    <tr>\n",
       "      <th>0</th>\n",
       "      <td>2012-01-01</td>\n",
       "      <td>2012</td>\n",
       "      <td>New Year</td>\n",
       "      <td>1</td>\n",
       "      <td>0</td>\n",
       "      <td>24.8</td>\n",
       "      <td>0</td>\n",
       "      <td>15.50</td>\n",
       "      <td>46</td>\n",
       "      <td>1070</td>\n",
       "      <td>0</td>\n",
       "      <td>7821</td>\n",
       "      <td>BURGER</td>\n",
       "      <td>1</td>\n",
       "      <td>713.00</td>\n",
       "    </tr>\n",
       "    <tr>\n",
       "      <th>1</th>\n",
       "      <td>2012-01-01</td>\n",
       "      <td>2012</td>\n",
       "      <td>New Year</td>\n",
       "      <td>1</td>\n",
       "      <td>0</td>\n",
       "      <td>24.8</td>\n",
       "      <td>0</td>\n",
       "      <td>12.75</td>\n",
       "      <td>18</td>\n",
       "      <td>2052</td>\n",
       "      <td>2</td>\n",
       "      <td>6249</td>\n",
       "      <td>LEMONADE</td>\n",
       "      <td>1</td>\n",
       "      <td>229.50</td>\n",
       "    </tr>\n",
       "    <tr>\n",
       "      <th>2</th>\n",
       "      <td>2012-01-01</td>\n",
       "      <td>2012</td>\n",
       "      <td>New Year</td>\n",
       "      <td>1</td>\n",
       "      <td>0</td>\n",
       "      <td>24.8</td>\n",
       "      <td>0</td>\n",
       "      <td>12.75</td>\n",
       "      <td>18</td>\n",
       "      <td>2052</td>\n",
       "      <td>2</td>\n",
       "      <td>7821</td>\n",
       "      <td>BURGER</td>\n",
       "      <td>1</td>\n",
       "      <td>229.50</td>\n",
       "    </tr>\n",
       "    <tr>\n",
       "      <th>3</th>\n",
       "      <td>2012-01-01</td>\n",
       "      <td>2012</td>\n",
       "      <td>New Year</td>\n",
       "      <td>1</td>\n",
       "      <td>0</td>\n",
       "      <td>24.8</td>\n",
       "      <td>0</td>\n",
       "      <td>12.73</td>\n",
       "      <td>22</td>\n",
       "      <td>2051</td>\n",
       "      <td>2</td>\n",
       "      <td>7821</td>\n",
       "      <td>BURGER</td>\n",
       "      <td>1</td>\n",
       "      <td>280.06</td>\n",
       "    </tr>\n",
       "    <tr>\n",
       "      <th>4</th>\n",
       "      <td>2012-01-01</td>\n",
       "      <td>2012</td>\n",
       "      <td>New Year</td>\n",
       "      <td>1</td>\n",
       "      <td>0</td>\n",
       "      <td>24.8</td>\n",
       "      <td>0</td>\n",
       "      <td>12.73</td>\n",
       "      <td>22</td>\n",
       "      <td>2051</td>\n",
       "      <td>2</td>\n",
       "      <td>5030</td>\n",
       "      <td>COKE</td>\n",
       "      <td>1</td>\n",
       "      <td>280.06</td>\n",
       "    </tr>\n",
       "    <tr>\n",
       "      <th>5</th>\n",
       "      <td>2012-01-01</td>\n",
       "      <td>2012</td>\n",
       "      <td>New Year</td>\n",
       "      <td>1</td>\n",
       "      <td>0</td>\n",
       "      <td>24.8</td>\n",
       "      <td>0</td>\n",
       "      <td>12.60</td>\n",
       "      <td>30</td>\n",
       "      <td>2053</td>\n",
       "      <td>2</td>\n",
       "      <td>5030</td>\n",
       "      <td>COKE</td>\n",
       "      <td>1</td>\n",
       "      <td>378.00</td>\n",
       "    </tr>\n",
       "    <tr>\n",
       "      <th>6</th>\n",
       "      <td>2012-01-01</td>\n",
       "      <td>2012</td>\n",
       "      <td>New Year</td>\n",
       "      <td>1</td>\n",
       "      <td>0</td>\n",
       "      <td>24.8</td>\n",
       "      <td>0</td>\n",
       "      <td>12.60</td>\n",
       "      <td>30</td>\n",
       "      <td>2053</td>\n",
       "      <td>2</td>\n",
       "      <td>3052</td>\n",
       "      <td>COFFEE</td>\n",
       "      <td>1</td>\n",
       "      <td>378.00</td>\n",
       "    </tr>\n",
       "    <tr>\n",
       "      <th>7</th>\n",
       "      <td>2012-01-01</td>\n",
       "      <td>2012</td>\n",
       "      <td>New Year</td>\n",
       "      <td>1</td>\n",
       "      <td>0</td>\n",
       "      <td>24.8</td>\n",
       "      <td>0</td>\n",
       "      <td>12.60</td>\n",
       "      <td>30</td>\n",
       "      <td>2053</td>\n",
       "      <td>2</td>\n",
       "      <td>7821</td>\n",
       "      <td>BURGER</td>\n",
       "      <td>1</td>\n",
       "      <td>378.00</td>\n",
       "    </tr>\n",
       "    <tr>\n",
       "      <th>8</th>\n",
       "      <td>2012-01-02</td>\n",
       "      <td>2012</td>\n",
       "      <td>New Year</td>\n",
       "      <td>0</td>\n",
       "      <td>0</td>\n",
       "      <td>24.8</td>\n",
       "      <td>0</td>\n",
       "      <td>12.60</td>\n",
       "      <td>34</td>\n",
       "      <td>2053</td>\n",
       "      <td>2</td>\n",
       "      <td>3052</td>\n",
       "      <td>COFFEE</td>\n",
       "      <td>1</td>\n",
       "      <td>428.40</td>\n",
       "    </tr>\n",
       "    <tr>\n",
       "      <th>9</th>\n",
       "      <td>2012-01-02</td>\n",
       "      <td>2012</td>\n",
       "      <td>New Year</td>\n",
       "      <td>0</td>\n",
       "      <td>0</td>\n",
       "      <td>24.8</td>\n",
       "      <td>0</td>\n",
       "      <td>15.50</td>\n",
       "      <td>70</td>\n",
       "      <td>1070</td>\n",
       "      <td>0</td>\n",
       "      <td>7821</td>\n",
       "      <td>BURGER</td>\n",
       "      <td>1</td>\n",
       "      <td>1085.00</td>\n",
       "    </tr>\n",
       "    <tr>\n",
       "      <th>10</th>\n",
       "      <td>2012-01-02</td>\n",
       "      <td>2012</td>\n",
       "      <td>New Year</td>\n",
       "      <td>0</td>\n",
       "      <td>0</td>\n",
       "      <td>24.8</td>\n",
       "      <td>0</td>\n",
       "      <td>12.73</td>\n",
       "      <td>22</td>\n",
       "      <td>2051</td>\n",
       "      <td>2</td>\n",
       "      <td>7821</td>\n",
       "      <td>BURGER</td>\n",
       "      <td>1</td>\n",
       "      <td>280.06</td>\n",
       "    </tr>\n",
       "    <tr>\n",
       "      <th>11</th>\n",
       "      <td>2012-01-02</td>\n",
       "      <td>2012</td>\n",
       "      <td>New Year</td>\n",
       "      <td>0</td>\n",
       "      <td>0</td>\n",
       "      <td>24.8</td>\n",
       "      <td>0</td>\n",
       "      <td>12.73</td>\n",
       "      <td>22</td>\n",
       "      <td>2051</td>\n",
       "      <td>2</td>\n",
       "      <td>5030</td>\n",
       "      <td>COKE</td>\n",
       "      <td>1</td>\n",
       "      <td>280.06</td>\n",
       "    </tr>\n",
       "    <tr>\n",
       "      <th>12</th>\n",
       "      <td>2012-01-02</td>\n",
       "      <td>2012</td>\n",
       "      <td>New Year</td>\n",
       "      <td>0</td>\n",
       "      <td>0</td>\n",
       "      <td>24.8</td>\n",
       "      <td>0</td>\n",
       "      <td>12.60</td>\n",
       "      <td>34</td>\n",
       "      <td>2053</td>\n",
       "      <td>2</td>\n",
       "      <td>7821</td>\n",
       "      <td>BURGER</td>\n",
       "      <td>1</td>\n",
       "      <td>428.40</td>\n",
       "    </tr>\n",
       "    <tr>\n",
       "      <th>13</th>\n",
       "      <td>2012-01-02</td>\n",
       "      <td>2012</td>\n",
       "      <td>New Year</td>\n",
       "      <td>0</td>\n",
       "      <td>0</td>\n",
       "      <td>24.8</td>\n",
       "      <td>0</td>\n",
       "      <td>12.60</td>\n",
       "      <td>34</td>\n",
       "      <td>2053</td>\n",
       "      <td>2</td>\n",
       "      <td>5030</td>\n",
       "      <td>COKE</td>\n",
       "      <td>1</td>\n",
       "      <td>428.40</td>\n",
       "    </tr>\n",
       "    <tr>\n",
       "      <th>14</th>\n",
       "      <td>2012-01-02</td>\n",
       "      <td>2012</td>\n",
       "      <td>New Year</td>\n",
       "      <td>0</td>\n",
       "      <td>0</td>\n",
       "      <td>24.8</td>\n",
       "      <td>0</td>\n",
       "      <td>12.75</td>\n",
       "      <td>16</td>\n",
       "      <td>2052</td>\n",
       "      <td>2</td>\n",
       "      <td>7821</td>\n",
       "      <td>BURGER</td>\n",
       "      <td>1</td>\n",
       "      <td>204.00</td>\n",
       "    </tr>\n",
       "    <tr>\n",
       "      <th>15</th>\n",
       "      <td>2012-01-02</td>\n",
       "      <td>2012</td>\n",
       "      <td>New Year</td>\n",
       "      <td>0</td>\n",
       "      <td>0</td>\n",
       "      <td>24.8</td>\n",
       "      <td>0</td>\n",
       "      <td>12.75</td>\n",
       "      <td>16</td>\n",
       "      <td>2052</td>\n",
       "      <td>2</td>\n",
       "      <td>6249</td>\n",
       "      <td>LEMONADE</td>\n",
       "      <td>1</td>\n",
       "      <td>204.00</td>\n",
       "    </tr>\n",
       "    <tr>\n",
       "      <th>16</th>\n",
       "      <td>2012-01-03</td>\n",
       "      <td>2012</td>\n",
       "      <td>New Year</td>\n",
       "      <td>0</td>\n",
       "      <td>0</td>\n",
       "      <td>32.0</td>\n",
       "      <td>1</td>\n",
       "      <td>15.50</td>\n",
       "      <td>62</td>\n",
       "      <td>1070</td>\n",
       "      <td>0</td>\n",
       "      <td>7821</td>\n",
       "      <td>BURGER</td>\n",
       "      <td>1</td>\n",
       "      <td>961.00</td>\n",
       "    </tr>\n",
       "    <tr>\n",
       "      <th>17</th>\n",
       "      <td>2012-01-03</td>\n",
       "      <td>2012</td>\n",
       "      <td>New Year</td>\n",
       "      <td>0</td>\n",
       "      <td>0</td>\n",
       "      <td>32.0</td>\n",
       "      <td>1</td>\n",
       "      <td>12.60</td>\n",
       "      <td>28</td>\n",
       "      <td>2053</td>\n",
       "      <td>2</td>\n",
       "      <td>3052</td>\n",
       "      <td>COFFEE</td>\n",
       "      <td>1</td>\n",
       "      <td>352.80</td>\n",
       "    </tr>\n",
       "    <tr>\n",
       "      <th>18</th>\n",
       "      <td>2012-01-03</td>\n",
       "      <td>2012</td>\n",
       "      <td>New Year</td>\n",
       "      <td>0</td>\n",
       "      <td>0</td>\n",
       "      <td>32.0</td>\n",
       "      <td>1</td>\n",
       "      <td>12.75</td>\n",
       "      <td>12</td>\n",
       "      <td>2052</td>\n",
       "      <td>2</td>\n",
       "      <td>6249</td>\n",
       "      <td>LEMONADE</td>\n",
       "      <td>1</td>\n",
       "      <td>153.00</td>\n",
       "    </tr>\n",
       "    <tr>\n",
       "      <th>19</th>\n",
       "      <td>2012-01-03</td>\n",
       "      <td>2012</td>\n",
       "      <td>New Year</td>\n",
       "      <td>0</td>\n",
       "      <td>0</td>\n",
       "      <td>32.0</td>\n",
       "      <td>1</td>\n",
       "      <td>12.73</td>\n",
       "      <td>26</td>\n",
       "      <td>2051</td>\n",
       "      <td>2</td>\n",
       "      <td>7821</td>\n",
       "      <td>BURGER</td>\n",
       "      <td>1</td>\n",
       "      <td>330.98</td>\n",
       "    </tr>\n",
       "  </tbody>\n",
       "</table>\n",
       "</div>"
      ],
      "text/plain": [
       "   CALENDAR_DATE  YEAR   HOLIDAY  IS_WEEKEND  IS_SCHOOLBREAK  \\\n",
       "0     2012-01-01  2012  New Year           1               0   \n",
       "1     2012-01-01  2012  New Year           1               0   \n",
       "2     2012-01-01  2012  New Year           1               0   \n",
       "3     2012-01-01  2012  New Year           1               0   \n",
       "4     2012-01-01  2012  New Year           1               0   \n",
       "5     2012-01-01  2012  New Year           1               0   \n",
       "6     2012-01-01  2012  New Year           1               0   \n",
       "7     2012-01-01  2012  New Year           1               0   \n",
       "8     2012-01-02  2012  New Year           0               0   \n",
       "9     2012-01-02  2012  New Year           0               0   \n",
       "10    2012-01-02  2012  New Year           0               0   \n",
       "11    2012-01-02  2012  New Year           0               0   \n",
       "12    2012-01-02  2012  New Year           0               0   \n",
       "13    2012-01-02  2012  New Year           0               0   \n",
       "14    2012-01-02  2012  New Year           0               0   \n",
       "15    2012-01-02  2012  New Year           0               0   \n",
       "16    2012-01-03  2012  New Year           0               0   \n",
       "17    2012-01-03  2012  New Year           0               0   \n",
       "18    2012-01-03  2012  New Year           0               0   \n",
       "19    2012-01-03  2012  New Year           0               0   \n",
       "\n",
       "    AVERAGE_TEMPERATURE  IS_OUTDOOR  PRICE  QUANTITY  SELL_ID  \\\n",
       "0                  24.8           0  15.50        46     1070   \n",
       "1                  24.8           0  12.75        18     2052   \n",
       "2                  24.8           0  12.75        18     2052   \n",
       "3                  24.8           0  12.73        22     2051   \n",
       "4                  24.8           0  12.73        22     2051   \n",
       "5                  24.8           0  12.60        30     2053   \n",
       "6                  24.8           0  12.60        30     2053   \n",
       "7                  24.8           0  12.60        30     2053   \n",
       "8                  24.8           0  12.60        34     2053   \n",
       "9                  24.8           0  15.50        70     1070   \n",
       "10                 24.8           0  12.73        22     2051   \n",
       "11                 24.8           0  12.73        22     2051   \n",
       "12                 24.8           0  12.60        34     2053   \n",
       "13                 24.8           0  12.60        34     2053   \n",
       "14                 24.8           0  12.75        16     2052   \n",
       "15                 24.8           0  12.75        16     2052   \n",
       "16                 32.0           1  15.50        62     1070   \n",
       "17                 32.0           1  12.60        28     2053   \n",
       "18                 32.0           1  12.75        12     2052   \n",
       "19                 32.0           1  12.73        26     2051   \n",
       "\n",
       "    SELL_CATEGORY_sold  ITEM_ID ITEM_NAME  is_event  Revenue  \n",
       "0                    0     7821    BURGER         1   713.00  \n",
       "1                    2     6249  LEMONADE         1   229.50  \n",
       "2                    2     7821    BURGER         1   229.50  \n",
       "3                    2     7821    BURGER         1   280.06  \n",
       "4                    2     5030      COKE         1   280.06  \n",
       "5                    2     5030      COKE         1   378.00  \n",
       "6                    2     3052    COFFEE         1   378.00  \n",
       "7                    2     7821    BURGER         1   378.00  \n",
       "8                    2     3052    COFFEE         1   428.40  \n",
       "9                    0     7821    BURGER         1  1085.00  \n",
       "10                   2     7821    BURGER         1   280.06  \n",
       "11                   2     5030      COKE         1   280.06  \n",
       "12                   2     7821    BURGER         1   428.40  \n",
       "13                   2     5030      COKE         1   428.40  \n",
       "14                   2     7821    BURGER         1   204.00  \n",
       "15                   2     6249  LEMONADE         1   204.00  \n",
       "16                   0     7821    BURGER         1   961.00  \n",
       "17                   2     3052    COFFEE         1   352.80  \n",
       "18                   2     6249  LEMONADE         1   153.00  \n",
       "19                   2     7821    BURGER         1   330.98  "
      ]
     },
     "execution_count": 392,
     "metadata": {},
     "output_type": "execute_result"
    }
   ],
   "source": [
    "gam_table.head(20)"
   ]
  },
  {
   "cell_type": "code",
   "execution_count": 389,
   "metadata": {},
   "outputs": [
    {
     "data": {
      "text/html": [
       "<div>\n",
       "<style scoped>\n",
       "    .dataframe tbody tr th:only-of-type {\n",
       "        vertical-align: middle;\n",
       "    }\n",
       "\n",
       "    .dataframe tbody tr th {\n",
       "        vertical-align: top;\n",
       "    }\n",
       "\n",
       "    .dataframe thead th {\n",
       "        text-align: right;\n",
       "    }\n",
       "</style>\n",
       "<table border=\"1\" class=\"dataframe\">\n",
       "  <thead>\n",
       "    <tr style=\"text-align: right;\">\n",
       "      <th></th>\n",
       "      <th>CALENDAR_DATE</th>\n",
       "      <th>YEAR</th>\n",
       "      <th>HOLIDAY</th>\n",
       "      <th>IS_WEEKEND</th>\n",
       "      <th>IS_SCHOOLBREAK</th>\n",
       "      <th>AVERAGE_TEMPERATURE</th>\n",
       "      <th>IS_OUTDOOR</th>\n",
       "      <th>PRICE</th>\n",
       "      <th>QUANTITY</th>\n",
       "      <th>SELL_ID</th>\n",
       "      <th>SELL_CATEGORY_sold</th>\n",
       "      <th>ITEM_ID</th>\n",
       "      <th>ITEM_NAME</th>\n",
       "      <th>is_event</th>\n",
       "      <th>Revenue</th>\n",
       "    </tr>\n",
       "  </thead>\n",
       "  <tbody>\n",
       "    <tr>\n",
       "      <th>8780</th>\n",
       "      <td>2014-12-27</td>\n",
       "      <td>2014</td>\n",
       "      <td>Non Holiday</td>\n",
       "      <td>1</td>\n",
       "      <td>0</td>\n",
       "      <td>28.4</td>\n",
       "      <td>0</td>\n",
       "      <td>10.81</td>\n",
       "      <td>44</td>\n",
       "      <td>2053</td>\n",
       "      <td>2</td>\n",
       "      <td>7821</td>\n",
       "      <td>BURGER</td>\n",
       "      <td>0</td>\n",
       "      <td>475.64</td>\n",
       "    </tr>\n",
       "    <tr>\n",
       "      <th>9706</th>\n",
       "      <td>2015-04-22</td>\n",
       "      <td>2015</td>\n",
       "      <td>Non Holiday</td>\n",
       "      <td>0</td>\n",
       "      <td>0</td>\n",
       "      <td>68.0</td>\n",
       "      <td>1</td>\n",
       "      <td>12.26</td>\n",
       "      <td>22</td>\n",
       "      <td>2052</td>\n",
       "      <td>2</td>\n",
       "      <td>7821</td>\n",
       "      <td>BURGER</td>\n",
       "      <td>0</td>\n",
       "      <td>269.72</td>\n",
       "    </tr>\n",
       "    <tr>\n",
       "      <th>183</th>\n",
       "      <td>2012-01-23</td>\n",
       "      <td>2012</td>\n",
       "      <td>Non Holiday</td>\n",
       "      <td>0</td>\n",
       "      <td>0</td>\n",
       "      <td>23.0</td>\n",
       "      <td>0</td>\n",
       "      <td>12.60</td>\n",
       "      <td>52</td>\n",
       "      <td>2053</td>\n",
       "      <td>2</td>\n",
       "      <td>7821</td>\n",
       "      <td>BURGER</td>\n",
       "      <td>0</td>\n",
       "      <td>655.20</td>\n",
       "    </tr>\n",
       "    <tr>\n",
       "      <th>1472</th>\n",
       "      <td>2012-07-04</td>\n",
       "      <td>2012</td>\n",
       "      <td>Non Holiday</td>\n",
       "      <td>0</td>\n",
       "      <td>0</td>\n",
       "      <td>84.2</td>\n",
       "      <td>1</td>\n",
       "      <td>15.00</td>\n",
       "      <td>92</td>\n",
       "      <td>1070</td>\n",
       "      <td>0</td>\n",
       "      <td>7821</td>\n",
       "      <td>BURGER</td>\n",
       "      <td>0</td>\n",
       "      <td>1380.00</td>\n",
       "    </tr>\n",
       "    <tr>\n",
       "      <th>5957</th>\n",
       "      <td>2014-01-08</td>\n",
       "      <td>2014</td>\n",
       "      <td>Non Holiday</td>\n",
       "      <td>0</td>\n",
       "      <td>0</td>\n",
       "      <td>21.2</td>\n",
       "      <td>0</td>\n",
       "      <td>12.37</td>\n",
       "      <td>60</td>\n",
       "      <td>2053</td>\n",
       "      <td>2</td>\n",
       "      <td>7821</td>\n",
       "      <td>BURGER</td>\n",
       "      <td>0</td>\n",
       "      <td>742.20</td>\n",
       "    </tr>\n",
       "    <tr>\n",
       "      <th>3346</th>\n",
       "      <td>2013-02-23</td>\n",
       "      <td>2013</td>\n",
       "      <td>Non Holiday</td>\n",
       "      <td>1</td>\n",
       "      <td>0</td>\n",
       "      <td>33.8</td>\n",
       "      <td>1</td>\n",
       "      <td>13.13</td>\n",
       "      <td>18</td>\n",
       "      <td>2051</td>\n",
       "      <td>2</td>\n",
       "      <td>5030</td>\n",
       "      <td>COKE</td>\n",
       "      <td>0</td>\n",
       "      <td>236.34</td>\n",
       "    </tr>\n",
       "    <tr>\n",
       "      <th>4543</th>\n",
       "      <td>2013-07-15</td>\n",
       "      <td>2013</td>\n",
       "      <td>Non Holiday</td>\n",
       "      <td>0</td>\n",
       "      <td>1</td>\n",
       "      <td>80.6</td>\n",
       "      <td>1</td>\n",
       "      <td>16.50</td>\n",
       "      <td>82</td>\n",
       "      <td>1070</td>\n",
       "      <td>0</td>\n",
       "      <td>7821</td>\n",
       "      <td>BURGER</td>\n",
       "      <td>0</td>\n",
       "      <td>1353.00</td>\n",
       "    </tr>\n",
       "    <tr>\n",
       "      <th>4935</th>\n",
       "      <td>2013-09-02</td>\n",
       "      <td>2013</td>\n",
       "      <td>Non Holiday</td>\n",
       "      <td>0</td>\n",
       "      <td>0</td>\n",
       "      <td>69.8</td>\n",
       "      <td>1</td>\n",
       "      <td>14.00</td>\n",
       "      <td>104</td>\n",
       "      <td>1070</td>\n",
       "      <td>0</td>\n",
       "      <td>7821</td>\n",
       "      <td>BURGER</td>\n",
       "      <td>0</td>\n",
       "      <td>1456.00</td>\n",
       "    </tr>\n",
       "    <tr>\n",
       "      <th>7699</th>\n",
       "      <td>2014-08-14</td>\n",
       "      <td>2014</td>\n",
       "      <td>Non Holiday</td>\n",
       "      <td>0</td>\n",
       "      <td>1</td>\n",
       "      <td>84.2</td>\n",
       "      <td>1</td>\n",
       "      <td>12.14</td>\n",
       "      <td>34</td>\n",
       "      <td>2051</td>\n",
       "      <td>2</td>\n",
       "      <td>7821</td>\n",
       "      <td>BURGER</td>\n",
       "      <td>0</td>\n",
       "      <td>412.76</td>\n",
       "    </tr>\n",
       "    <tr>\n",
       "      <th>534</th>\n",
       "      <td>2012-03-08</td>\n",
       "      <td>2012</td>\n",
       "      <td>Non Holiday</td>\n",
       "      <td>0</td>\n",
       "      <td>0</td>\n",
       "      <td>39.2</td>\n",
       "      <td>1</td>\n",
       "      <td>12.60</td>\n",
       "      <td>42</td>\n",
       "      <td>2053</td>\n",
       "      <td>2</td>\n",
       "      <td>7821</td>\n",
       "      <td>BURGER</td>\n",
       "      <td>0</td>\n",
       "      <td>529.20</td>\n",
       "    </tr>\n",
       "  </tbody>\n",
       "</table>\n",
       "</div>"
      ],
      "text/plain": [
       "     CALENDAR_DATE  YEAR      HOLIDAY  IS_WEEKEND  IS_SCHOOLBREAK  \\\n",
       "8780    2014-12-27  2014  Non Holiday           1               0   \n",
       "9706    2015-04-22  2015  Non Holiday           0               0   \n",
       "183     2012-01-23  2012  Non Holiday           0               0   \n",
       "1472    2012-07-04  2012  Non Holiday           0               0   \n",
       "5957    2014-01-08  2014  Non Holiday           0               0   \n",
       "3346    2013-02-23  2013  Non Holiday           1               0   \n",
       "4543    2013-07-15  2013  Non Holiday           0               1   \n",
       "4935    2013-09-02  2013  Non Holiday           0               0   \n",
       "7699    2014-08-14  2014  Non Holiday           0               1   \n",
       "534     2012-03-08  2012  Non Holiday           0               0   \n",
       "\n",
       "      AVERAGE_TEMPERATURE  IS_OUTDOOR  PRICE  QUANTITY  SELL_ID  \\\n",
       "8780                 28.4           0  10.81        44     2053   \n",
       "9706                 68.0           1  12.26        22     2052   \n",
       "183                  23.0           0  12.60        52     2053   \n",
       "1472                 84.2           1  15.00        92     1070   \n",
       "5957                 21.2           0  12.37        60     2053   \n",
       "3346                 33.8           1  13.13        18     2051   \n",
       "4543                 80.6           1  16.50        82     1070   \n",
       "4935                 69.8           1  14.00       104     1070   \n",
       "7699                 84.2           1  12.14        34     2051   \n",
       "534                  39.2           1  12.60        42     2053   \n",
       "\n",
       "      SELL_CATEGORY_sold  ITEM_ID ITEM_NAME  is_event  Revenue  \n",
       "8780                   2     7821    BURGER         0   475.64  \n",
       "9706                   2     7821    BURGER         0   269.72  \n",
       "183                    2     7821    BURGER         0   655.20  \n",
       "1472                   0     7821    BURGER         0  1380.00  \n",
       "5957                   2     7821    BURGER         0   742.20  \n",
       "3346                   2     5030      COKE         0   236.34  \n",
       "4543                   0     7821    BURGER         0  1353.00  \n",
       "4935                   0     7821    BURGER         0  1456.00  \n",
       "7699                   2     7821    BURGER         0   412.76  \n",
       "534                    2     7821    BURGER         0   529.20  "
      ]
     },
     "execution_count": 389,
     "metadata": {},
     "output_type": "execute_result"
    }
   ],
   "source": [
    "gam_table.sample(10)"
   ]
  },
  {
   "cell_type": "code",
   "execution_count": 397,
   "metadata": {},
   "outputs": [],
   "source": [
    "filtered_data = gam_table.query('HOLIDAY == \"Non Holiday\"')\n",
    "unique_products = filtered_data['ITEM_NAME'].unique()\n",
    "all_results = pd.DataFrame()\n",
    "\n",
    "for product in unique_products:\n",
    "    product_data = filtered_data[filtered_data['ITEM_NAME'] == product]\n",
    "    X_values = product_data['PRICE']\n",
    "    y_values = product_data['QUANTITY']\n",
    "    quantiles = [0.025, 0.5, 0.975]\n",
    "    results_dict = {}"
   ]
  },
  {
   "cell_type": "code",
   "execution_count": 403,
   "metadata": {},
   "outputs": [
    {
     "data": {
      "text/plain": [
       "ExpectileGAM(callbacks=[Deviance(), Diffs()], expectile=0.25, \n",
       "   fit_intercept=True, max_iter=100, scale=None, \n",
       "   terms=s(0) + intercept, tol=0.0001, verbose=False)"
      ]
     },
     "execution_count": 403,
     "metadata": {},
     "output_type": "execute_result"
    },
    {
     "data": {
      "text/plain": [
       "ExpectileGAM(callbacks=[Deviance(), Diffs()], expectile=0.5, \n",
       "   fit_intercept=True, max_iter=100, scale=None, \n",
       "   terms=s(0) + intercept, tol=0.0001, verbose=False)"
      ]
     },
     "execution_count": 403,
     "metadata": {},
     "output_type": "execute_result"
    },
    {
     "data": {
      "text/plain": [
       "ExpectileGAM(callbacks=[Deviance(), Diffs()], expectile=0.75, \n",
       "   fit_intercept=True, max_iter=100, scale=None, \n",
       "   terms=s(0) + intercept, tol=0.0001, verbose=False)"
      ]
     },
     "execution_count": 403,
     "metadata": {},
     "output_type": "execute_result"
    }
   ],
   "source": [
    "quantiles = [0.25, 0.5, 0.75]  # Example list of quantiles\n",
    "results_dict = {}\n",
    "\n",
    "# Loop through quantiles and fit models\n",
    "for q in quantiles:\n",
    "    model = ExpectileGAM(s(0), expectile=q)  # Corrected the initialization\n",
    "    model.fit(X_values, y_values)  # Assuming X_values and y_values are defined\n",
    "    \n",
    "    # Predict quantity\n",
    "    results_dict[f\"pred_{q}\"] = model.predict(X_values)\n",
    "    \n",
    "    # Predict revenue\n",
    "    results_dict[f\"revenue_pred_{q}\"] = model.predict(X_values) * product_data['PRICE']  # Assuming product_data is defined\n",
    "\n",
    "# Create DataFrame of predicted values\n",
    "predicted_values_df = pd.DataFrame(results_dict, index=X_values.index)\n",
    "\n",
    "# Combine predicted values with other data\n",
    "combined_df = pd.concat([product_data[['PRICE', 'ITEM_NAME', 'QUANTITY']], predicted_values_df], axis=1)\n",
    "\n",
    "# Concatenate with all_results (assuming all_results is defined)\n",
    "all_results = pd.concat([all_results, combined_df], axis=0)"
   ]
  },
  {
   "cell_type": "code",
   "execution_count": 405,
   "metadata": {},
   "outputs": [
    {
     "name": "stdout",
     "output_type": "stream",
     "text": [
      "Collecting plotnine\n",
      "  Using cached plotnine-0.13.4-py3-none-any.whl (1.3 MB)\n",
      "Requirement already satisfied: matplotlib>=3.6.0 in /Users/anubhavnehru/anaconda3/lib/python3.10/site-packages (from plotnine) (3.7.0)\n",
      "Collecting statsmodels>=0.14.0\n",
      "  Using cached statsmodels-0.14.1-cp310-cp310-macosx_11_0_arm64.whl (10.1 MB)\n",
      "Collecting pandas<3.0.0,>=2.1.0\n",
      "  Using cached pandas-2.2.2.tar.gz (4.4 MB)\n",
      "  Installing build dependencies ... \u001b[?25ldone\n",
      "\u001b[?25h  Getting requirements to build wheel ... \u001b[?25ldone\n",
      "\u001b[?25h  Preparing metadata (pyproject.toml) ... \u001b[?25ldone\n",
      "\u001b[?25hRequirement already satisfied: scipy>=1.7.0 in /Users/anubhavnehru/anaconda3/lib/python3.10/site-packages (from plotnine) (1.11.1)\n",
      "Requirement already satisfied: numpy>=1.23.0 in /Users/anubhavnehru/anaconda3/lib/python3.10/site-packages (from plotnine) (1.26.4)\n",
      "Collecting mizani~=0.11.0\n",
      "  Using cached mizani-0.11.1-py3-none-any.whl (127 kB)\n",
      "Requirement already satisfied: pillow>=6.2.0 in /Users/anubhavnehru/anaconda3/lib/python3.10/site-packages (from matplotlib>=3.6.0->plotnine) (9.4.0)\n",
      "Requirement already satisfied: packaging>=20.0 in /Users/anubhavnehru/anaconda3/lib/python3.10/site-packages (from matplotlib>=3.6.0->plotnine) (23.2)\n",
      "Requirement already satisfied: fonttools>=4.22.0 in /Users/anubhavnehru/anaconda3/lib/python3.10/site-packages (from matplotlib>=3.6.0->plotnine) (4.25.0)\n",
      "Requirement already satisfied: contourpy>=1.0.1 in /Users/anubhavnehru/anaconda3/lib/python3.10/site-packages (from matplotlib>=3.6.0->plotnine) (1.0.5)\n",
      "Requirement already satisfied: cycler>=0.10 in /Users/anubhavnehru/anaconda3/lib/python3.10/site-packages (from matplotlib>=3.6.0->plotnine) (0.11.0)\n",
      "Requirement already satisfied: python-dateutil>=2.7 in /Users/anubhavnehru/anaconda3/lib/python3.10/site-packages (from matplotlib>=3.6.0->plotnine) (2.8.2)\n",
      "Requirement already satisfied: pyparsing>=2.3.1 in /Users/anubhavnehru/anaconda3/lib/python3.10/site-packages (from matplotlib>=3.6.0->plotnine) (3.0.9)\n",
      "Requirement already satisfied: kiwisolver>=1.0.1 in /Users/anubhavnehru/anaconda3/lib/python3.10/site-packages (from matplotlib>=3.6.0->plotnine) (1.4.4)\n",
      "Requirement already satisfied: pytz>=2020.1 in /Users/anubhavnehru/anaconda3/lib/python3.10/site-packages (from pandas<3.0.0,>=2.1.0->plotnine) (2022.7)\n",
      "Collecting tzdata>=2022.7\n",
      "  Using cached tzdata-2024.1-py2.py3-none-any.whl (345 kB)\n",
      "Collecting patsy>=0.5.4\n",
      "  Downloading patsy-0.5.6-py2.py3-none-any.whl (233 kB)\n",
      "\u001b[2K     \u001b[90m━━━━━━━━━━━━━━━━━━━━━━━━━━━━━━━━━━━━━━━\u001b[0m \u001b[32m233.9/233.9 kB\u001b[0m \u001b[31m2.1 MB/s\u001b[0m eta \u001b[36m0:00:00\u001b[0ma \u001b[36m0:00:01\u001b[0m\n",
      "\u001b[?25hRequirement already satisfied: six in /Users/anubhavnehru/anaconda3/lib/python3.10/site-packages (from patsy>=0.5.4->statsmodels>=0.14.0->plotnine) (1.16.0)\n",
      "Building wheels for collected packages: pandas\n",
      "  Building wheel for pandas (pyproject.toml) ... \u001b[?25ldone\n",
      "\u001b[?25h  Created wheel for pandas: filename=pandas-2.2.2-cp310-cp310-macosx_14_0_arm64.whl size=40179803 sha256=0373ccd7d0c56989f1dc5dbb802739d7de67f8129d74f0cd2fa3128efef0796c\n",
      "  Stored in directory: /Users/anubhavnehru/Library/Caches/pip/wheels/ac/76/b9/2aaf513052b0a854f45061319fbbeec9c780eefed81aea5131\n",
      "Successfully built pandas\n",
      "Installing collected packages: tzdata, patsy, pandas, statsmodels, mizani, plotnine\n",
      "  Attempting uninstall: patsy\n",
      "    Found existing installation: patsy 0.5.3\n",
      "    Uninstalling patsy-0.5.3:\n",
      "      Successfully uninstalled patsy-0.5.3\n",
      "  Attempting uninstall: pandas\n",
      "    Found existing installation: pandas 1.5.3\n",
      "    Uninstalling pandas-1.5.3:\n",
      "      Successfully uninstalled pandas-1.5.3\n",
      "  Attempting uninstall: statsmodels\n",
      "    Found existing installation: statsmodels 0.13.5\n",
      "    Uninstalling statsmodels-0.13.5:\n",
      "      Successfully uninstalled statsmodels-0.13.5\n",
      "Successfully installed mizani-0.11.1 pandas-2.2.2 patsy-0.5.6 plotnine-0.13.4 statsmodels-0.14.1 tzdata-2024.1\n"
     ]
    }
   ],
   "source": [
    "!pip install plotnine"
   ]
  },
  {
   "cell_type": "code",
   "execution_count": 414,
   "metadata": {},
   "outputs": [
    {
     "data": {
      "text/html": [
       "<div>\n",
       "<style scoped>\n",
       "    .dataframe tbody tr th:only-of-type {\n",
       "        vertical-align: middle;\n",
       "    }\n",
       "\n",
       "    .dataframe tbody tr th {\n",
       "        vertical-align: top;\n",
       "    }\n",
       "\n",
       "    .dataframe thead th {\n",
       "        text-align: right;\n",
       "    }\n",
       "</style>\n",
       "<table border=\"1\" class=\"dataframe\">\n",
       "  <thead>\n",
       "    <tr style=\"text-align: right;\">\n",
       "      <th></th>\n",
       "      <th>PRICE</th>\n",
       "      <th>ITEM_NAME</th>\n",
       "      <th>QUANTITY</th>\n",
       "      <th>pred_0.25</th>\n",
       "      <th>revenue_pred_0.25</th>\n",
       "      <th>pred_0.5</th>\n",
       "      <th>revenue_pred_0.5</th>\n",
       "      <th>pred_0.75</th>\n",
       "      <th>revenue_pred_0.75</th>\n",
       "    </tr>\n",
       "  </thead>\n",
       "  <tbody>\n",
       "    <tr>\n",
       "      <th>31</th>\n",
       "      <td>12.6</td>\n",
       "      <td>COFFEE</td>\n",
       "      <td>42</td>\n",
       "      <td>39.503569</td>\n",
       "      <td>497.744967</td>\n",
       "      <td>43.280545</td>\n",
       "      <td>545.334866</td>\n",
       "      <td>46.442853</td>\n",
       "      <td>585.179954</td>\n",
       "    </tr>\n",
       "    <tr>\n",
       "      <th>35</th>\n",
       "      <td>12.6</td>\n",
       "      <td>COFFEE</td>\n",
       "      <td>58</td>\n",
       "      <td>39.503569</td>\n",
       "      <td>497.744967</td>\n",
       "      <td>43.280545</td>\n",
       "      <td>545.334866</td>\n",
       "      <td>46.442853</td>\n",
       "      <td>585.179954</td>\n",
       "    </tr>\n",
       "    <tr>\n",
       "      <th>42</th>\n",
       "      <td>12.6</td>\n",
       "      <td>COFFEE</td>\n",
       "      <td>54</td>\n",
       "      <td>39.503569</td>\n",
       "      <td>497.744967</td>\n",
       "      <td>43.280545</td>\n",
       "      <td>545.334866</td>\n",
       "      <td>46.442853</td>\n",
       "      <td>585.179954</td>\n",
       "    </tr>\n",
       "    <tr>\n",
       "      <th>55</th>\n",
       "      <td>12.6</td>\n",
       "      <td>COFFEE</td>\n",
       "      <td>42</td>\n",
       "      <td>39.503569</td>\n",
       "      <td>497.744967</td>\n",
       "      <td>43.280545</td>\n",
       "      <td>545.334866</td>\n",
       "      <td>46.442853</td>\n",
       "      <td>585.179954</td>\n",
       "    </tr>\n",
       "    <tr>\n",
       "      <th>57</th>\n",
       "      <td>12.6</td>\n",
       "      <td>COFFEE</td>\n",
       "      <td>42</td>\n",
       "      <td>39.503569</td>\n",
       "      <td>497.744967</td>\n",
       "      <td>43.280545</td>\n",
       "      <td>545.334866</td>\n",
       "      <td>46.442853</td>\n",
       "      <td>585.179954</td>\n",
       "    </tr>\n",
       "  </tbody>\n",
       "</table>\n",
       "</div>"
      ],
      "text/plain": [
       "    PRICE ITEM_NAME  QUANTITY  pred_0.25  revenue_pred_0.25   pred_0.5  \\\n",
       "31   12.6    COFFEE        42  39.503569         497.744967  43.280545   \n",
       "35   12.6    COFFEE        58  39.503569         497.744967  43.280545   \n",
       "42   12.6    COFFEE        54  39.503569         497.744967  43.280545   \n",
       "55   12.6    COFFEE        42  39.503569         497.744967  43.280545   \n",
       "57   12.6    COFFEE        42  39.503569         497.744967  43.280545   \n",
       "\n",
       "    revenue_pred_0.5  pred_0.75  revenue_pred_0.75  \n",
       "31        545.334866  46.442853         585.179954  \n",
       "35        545.334866  46.442853         585.179954  \n",
       "42        545.334866  46.442853         585.179954  \n",
       "55        545.334866  46.442853         585.179954  \n",
       "57        545.334866  46.442853         585.179954  "
      ]
     },
     "execution_count": 414,
     "metadata": {},
     "output_type": "execute_result"
    }
   ],
   "source": [
    "all_results.head()"
   ]
  },
  {
   "cell_type": "code",
   "execution_count": 415,
   "metadata": {},
   "outputs": [],
   "source": [
    "from plotnine import ggplot, aes, geom_point, geom_line, geom_ribbon, facet_wrap, theme, labs\n",
    "\n",
    "#Create the ggplot\n",
    "plot = (ggplot(all_results, aes(x='Price', y='QUANTITY', color='ITEM_NAME'))\n",
    "        + geom_point(alpha=0.5)  # Plot the original data points\n",
    "        + geom_line(aes(y='pred_0.5'), color='blue', size=1.5)  # Darker line for median prediction\n",
    "        + geom_ribbon(aes(ymin='pred_0.025', ymax='pred_0.975'), fill='#d3d3d3', color='#FF000000', alpha=0.75,\n",
    "        show_legend=False)  # Grey ribbon for the 2.5th and 97.5th percentiles\n",
    "        + facet_wrap('item', scales='free')  # Separate plots for each product\n",
    "        + labs(title='Expedtile GAM Analysis', x='Price', y='QUANTITY')  # Add Labels and title\n",
    "        + theme(figure_size=(12, 8))  # Increase the size of the plot (width, height) in inches\n",
    ")\n",
    "\n"
   ]
  },
  {
   "cell_type": "code",
   "execution_count": 416,
   "metadata": {},
   "outputs": [
    {
     "ename": "PlotnineError",
     "evalue": "'At least one layer must contain all variables used for facetting'",
     "output_type": "error",
     "traceback": [
      "\u001b[0;31m---------------------------------------------------------------------------\u001b[0m",
      "\u001b[0;31mPlotnineError\u001b[0m                             Traceback (most recent call last)",
      "File \u001b[0;32m~/anaconda3/lib/python3.10/site-packages/IPython/core/formatters.py:920\u001b[0m, in \u001b[0;36mIPythonDisplayFormatter.__call__\u001b[0;34m(self, obj)\u001b[0m\n\u001b[1;32m    918\u001b[0m method \u001b[39m=\u001b[39m get_real_method(obj, \u001b[39mself\u001b[39m\u001b[39m.\u001b[39mprint_method)\n\u001b[1;32m    919\u001b[0m \u001b[39mif\u001b[39;00m method \u001b[39mis\u001b[39;00m \u001b[39mnot\u001b[39;00m \u001b[39mNone\u001b[39;00m:\n\u001b[0;32m--> 920\u001b[0m     method()\n\u001b[1;32m    921\u001b[0m     \u001b[39mreturn\u001b[39;00m \u001b[39mTrue\u001b[39;00m\n",
      "File \u001b[0;32m~/anaconda3/lib/python3.10/site-packages/plotnine/ggplot.py:141\u001b[0m, in \u001b[0;36mggplot._ipython_display_\u001b[0;34m(self)\u001b[0m\n\u001b[1;32m    134\u001b[0m \u001b[39mdef\u001b[39;00m \u001b[39m_ipython_display_\u001b[39m(\u001b[39mself\u001b[39m):\n\u001b[1;32m    135\u001b[0m \u001b[39m    \u001b[39m\u001b[39m\"\"\"\u001b[39;00m\n\u001b[1;32m    136\u001b[0m \u001b[39m    Display plot in the output of the cell\u001b[39;00m\n\u001b[1;32m    137\u001b[0m \n\u001b[1;32m    138\u001b[0m \u001b[39m    This method will always be called when a ggplot object is the\u001b[39;00m\n\u001b[1;32m    139\u001b[0m \u001b[39m    last in the cell.\u001b[39;00m\n\u001b[1;32m    140\u001b[0m \u001b[39m    \"\"\"\u001b[39;00m\n\u001b[0;32m--> 141\u001b[0m     \u001b[39mself\u001b[39;49m\u001b[39m.\u001b[39;49m_display()\n",
      "File \u001b[0;32m~/anaconda3/lib/python3.10/site-packages/plotnine/ggplot.py:175\u001b[0m, in \u001b[0;36mggplot._display\u001b[0;34m(self)\u001b[0m\n\u001b[1;32m    172\u001b[0m     save_format \u001b[39m=\u001b[39m \u001b[39m\"\u001b[39m\u001b[39mpng\u001b[39m\u001b[39m\"\u001b[39m\n\u001b[1;32m    174\u001b[0m buf \u001b[39m=\u001b[39m BytesIO()\n\u001b[0;32m--> 175\u001b[0m \u001b[39mself\u001b[39;49m\u001b[39m.\u001b[39;49msave(buf, \u001b[39mformat\u001b[39;49m\u001b[39m=\u001b[39;49msave_format, verbose\u001b[39m=\u001b[39;49m\u001b[39mFalse\u001b[39;49;00m)\n\u001b[1;32m    176\u001b[0m display_func \u001b[39m=\u001b[39m get_display_function(\u001b[39mformat\u001b[39m)\n\u001b[1;32m    177\u001b[0m display_func(buf\u001b[39m.\u001b[39mgetvalue())\n",
      "File \u001b[0;32m~/anaconda3/lib/python3.10/site-packages/plotnine/ggplot.py:663\u001b[0m, in \u001b[0;36mggplot.save\u001b[0;34m(self, filename, format, path, width, height, units, dpi, limitsize, verbose, **kwargs)\u001b[0m\n\u001b[1;32m    615\u001b[0m \u001b[39mdef\u001b[39;00m \u001b[39msave\u001b[39m(\n\u001b[1;32m    616\u001b[0m     \u001b[39mself\u001b[39m,\n\u001b[1;32m    617\u001b[0m     filename: Optional[\u001b[39mstr\u001b[39m \u001b[39m|\u001b[39m Path \u001b[39m|\u001b[39m BytesIO] \u001b[39m=\u001b[39m \u001b[39mNone\u001b[39;00m,\n\u001b[0;32m   (...)\u001b[0m\n\u001b[1;32m    626\u001b[0m     \u001b[39m*\u001b[39m\u001b[39m*\u001b[39mkwargs: Any,\n\u001b[1;32m    627\u001b[0m ):\n\u001b[1;32m    628\u001b[0m \u001b[39m    \u001b[39m\u001b[39m\"\"\"\u001b[39;00m\n\u001b[1;32m    629\u001b[0m \u001b[39m    Save a ggplot object as an image file\u001b[39;00m\n\u001b[1;32m    630\u001b[0m \n\u001b[0;32m   (...)\u001b[0m\n\u001b[1;32m    661\u001b[0m \u001b[39m        Additional arguments to pass to matplotlib `savefig()`.\u001b[39;00m\n\u001b[1;32m    662\u001b[0m \u001b[39m    \"\"\"\u001b[39;00m\n\u001b[0;32m--> 663\u001b[0m     sv \u001b[39m=\u001b[39m \u001b[39mself\u001b[39;49m\u001b[39m.\u001b[39;49msave_helper(\n\u001b[1;32m    664\u001b[0m         filename\u001b[39m=\u001b[39;49mfilename,\n\u001b[1;32m    665\u001b[0m         \u001b[39mformat\u001b[39;49m\u001b[39m=\u001b[39;49m\u001b[39mformat\u001b[39;49m,\n\u001b[1;32m    666\u001b[0m         path\u001b[39m=\u001b[39;49mpath,\n\u001b[1;32m    667\u001b[0m         width\u001b[39m=\u001b[39;49mwidth,\n\u001b[1;32m    668\u001b[0m         height\u001b[39m=\u001b[39;49mheight,\n\u001b[1;32m    669\u001b[0m         units\u001b[39m=\u001b[39;49munits,\n\u001b[1;32m    670\u001b[0m         dpi\u001b[39m=\u001b[39;49mdpi,\n\u001b[1;32m    671\u001b[0m         limitsize\u001b[39m=\u001b[39;49mlimitsize,\n\u001b[1;32m    672\u001b[0m         verbose\u001b[39m=\u001b[39;49mverbose,\n\u001b[1;32m    673\u001b[0m         \u001b[39m*\u001b[39;49m\u001b[39m*\u001b[39;49mkwargs,\n\u001b[1;32m    674\u001b[0m     )\n\u001b[1;32m    675\u001b[0m     sv\u001b[39m.\u001b[39mfigure\u001b[39m.\u001b[39msavefig(\u001b[39m*\u001b[39m\u001b[39m*\u001b[39msv\u001b[39m.\u001b[39mkwargs)\n",
      "File \u001b[0;32m~/anaconda3/lib/python3.10/site-packages/plotnine/ggplot.py:612\u001b[0m, in \u001b[0;36mggplot.save_helper\u001b[0;34m(self, filename, format, path, width, height, units, dpi, limitsize, verbose, **kwargs)\u001b[0m\n\u001b[1;32m    609\u001b[0m \u001b[39mif\u001b[39;00m dpi \u001b[39mis\u001b[39;00m \u001b[39mnot\u001b[39;00m \u001b[39mNone\u001b[39;00m:\n\u001b[1;32m    610\u001b[0m     \u001b[39mself\u001b[39m\u001b[39m.\u001b[39mtheme \u001b[39m=\u001b[39m \u001b[39mself\u001b[39m\u001b[39m.\u001b[39mtheme \u001b[39m+\u001b[39m theme(dpi\u001b[39m=\u001b[39mdpi)\n\u001b[0;32m--> 612\u001b[0m figure \u001b[39m=\u001b[39m \u001b[39mself\u001b[39;49m\u001b[39m.\u001b[39;49mdraw(show\u001b[39m=\u001b[39;49m\u001b[39mFalse\u001b[39;49;00m)\n\u001b[1;32m    613\u001b[0m \u001b[39mreturn\u001b[39;00m mpl_save_view(figure, fig_kwargs)\n",
      "File \u001b[0;32m~/anaconda3/lib/python3.10/site-packages/plotnine/ggplot.py:272\u001b[0m, in \u001b[0;36mggplot.draw\u001b[0;34m(self, show)\u001b[0m\n\u001b[1;32m    270\u001b[0m \u001b[39mself\u001b[39m \u001b[39m=\u001b[39m deepcopy(\u001b[39mself\u001b[39m)\n\u001b[1;32m    271\u001b[0m \u001b[39mwith\u001b[39;00m plot_context(\u001b[39mself\u001b[39m, show\u001b[39m=\u001b[39mshow):\n\u001b[0;32m--> 272\u001b[0m     \u001b[39mself\u001b[39;49m\u001b[39m.\u001b[39;49m_build()\n\u001b[1;32m    274\u001b[0m     \u001b[39m# setup\u001b[39;00m\n\u001b[1;32m    275\u001b[0m     \u001b[39mself\u001b[39m\u001b[39m.\u001b[39mfigure, \u001b[39mself\u001b[39m\u001b[39m.\u001b[39maxs \u001b[39m=\u001b[39m \u001b[39mself\u001b[39m\u001b[39m.\u001b[39mfacet\u001b[39m.\u001b[39msetup(\u001b[39mself\u001b[39m)\n",
      "File \u001b[0;32m~/anaconda3/lib/python3.10/site-packages/plotnine/ggplot.py:358\u001b[0m, in \u001b[0;36mggplot._build\u001b[0;34m(self)\u001b[0m\n\u001b[1;32m    354\u001b[0m layers\u001b[39m.\u001b[39msetup(\u001b[39mself\u001b[39m)\n\u001b[1;32m    356\u001b[0m \u001b[39m# Initialise panels, add extra data for margins & missing\u001b[39;00m\n\u001b[1;32m    357\u001b[0m \u001b[39m# facetting variables, and add on a PANEL variable to data\u001b[39;00m\n\u001b[0;32m--> 358\u001b[0m layout\u001b[39m.\u001b[39;49msetup(layers, \u001b[39mself\u001b[39;49m)\n\u001b[1;32m    360\u001b[0m \u001b[39m# Compute aesthetics to produce data with generalised\u001b[39;00m\n\u001b[1;32m    361\u001b[0m \u001b[39m# variable names\u001b[39;00m\n\u001b[1;32m    362\u001b[0m layers\u001b[39m.\u001b[39mcompute_aesthetics(\u001b[39mself\u001b[39m)\n",
      "File \u001b[0;32m~/anaconda3/lib/python3.10/site-packages/plotnine/facets/layout.py:77\u001b[0m, in \u001b[0;36mLayout.setup\u001b[0;34m(self, layers, plot)\u001b[0m\n\u001b[1;32m     75\u001b[0m \u001b[39m# Generate panel layout\u001b[39;00m\n\u001b[1;32m     76\u001b[0m data \u001b[39m=\u001b[39m \u001b[39mself\u001b[39m\u001b[39m.\u001b[39mfacet\u001b[39m.\u001b[39msetup_data(data)\n\u001b[0;32m---> 77\u001b[0m \u001b[39mself\u001b[39m\u001b[39m.\u001b[39mlayout \u001b[39m=\u001b[39m \u001b[39mself\u001b[39;49m\u001b[39m.\u001b[39;49mfacet\u001b[39m.\u001b[39;49mcompute_layout(data)\n\u001b[1;32m     78\u001b[0m \u001b[39mself\u001b[39m\u001b[39m.\u001b[39mlayout \u001b[39m=\u001b[39m \u001b[39mself\u001b[39m\u001b[39m.\u001b[39mcoord\u001b[39m.\u001b[39msetup_layout(\u001b[39mself\u001b[39m\u001b[39m.\u001b[39mlayout)\n\u001b[1;32m     79\u001b[0m \u001b[39mself\u001b[39m\u001b[39m.\u001b[39mcheck_layout()\n",
      "File \u001b[0;32m~/anaconda3/lib/python3.10/site-packages/plotnine/facets/facet_wrap.py:101\u001b[0m, in \u001b[0;36mfacet_wrap.compute_layout\u001b[0;34m(self, data)\u001b[0m\n\u001b[1;32m     98\u001b[0m     \u001b[39mself\u001b[39m\u001b[39m.\u001b[39mnrow, \u001b[39mself\u001b[39m\u001b[39m.\u001b[39mncol \u001b[39m=\u001b[39m \u001b[39m1\u001b[39m, \u001b[39m1\u001b[39m\n\u001b[1;32m     99\u001b[0m     \u001b[39mreturn\u001b[39;00m layout_null()\n\u001b[0;32m--> 101\u001b[0m base \u001b[39m=\u001b[39m combine_vars(data, \u001b[39mself\u001b[39;49m\u001b[39m.\u001b[39;49menvironment, \u001b[39mself\u001b[39;49m\u001b[39m.\u001b[39;49mvars, drop\u001b[39m=\u001b[39;49m\u001b[39mself\u001b[39;49m\u001b[39m.\u001b[39;49mdrop)\n\u001b[1;32m    102\u001b[0m n \u001b[39m=\u001b[39m \u001b[39mlen\u001b[39m(base)\n\u001b[1;32m    103\u001b[0m dims \u001b[39m=\u001b[39m wrap_dims(n, \u001b[39mself\u001b[39m\u001b[39m.\u001b[39m_nrow, \u001b[39mself\u001b[39m\u001b[39m.\u001b[39m_ncol)\n",
      "File \u001b[0;32m~/anaconda3/lib/python3.10/site-packages/plotnine/facets/facet.py:473\u001b[0m, in \u001b[0;36mcombine_vars\u001b[0;34m(data, environment, vars, drop)\u001b[0m\n\u001b[1;32m    471\u001b[0m has_all \u001b[39m=\u001b[39m [x\u001b[39m.\u001b[39mshape[\u001b[39m1\u001b[39m] \u001b[39m==\u001b[39m \u001b[39mlen\u001b[39m(\u001b[39mvars\u001b[39m) \u001b[39mfor\u001b[39;00m x \u001b[39min\u001b[39;00m values]\n\u001b[1;32m    472\u001b[0m \u001b[39mif\u001b[39;00m \u001b[39mnot\u001b[39;00m \u001b[39many\u001b[39m(has_all):\n\u001b[0;32m--> 473\u001b[0m     \u001b[39mraise\u001b[39;00m PlotnineError(\n\u001b[1;32m    474\u001b[0m         \u001b[39m\"\u001b[39m\u001b[39mAt least one layer must contain all variables \u001b[39m\u001b[39m\"\u001b[39m\n\u001b[1;32m    475\u001b[0m         \u001b[39m\"\u001b[39m\u001b[39mused for facetting\u001b[39m\u001b[39m\"\u001b[39m\n\u001b[1;32m    476\u001b[0m     )\n\u001b[1;32m    477\u001b[0m base \u001b[39m=\u001b[39m pd\u001b[39m.\u001b[39mconcat([x \u001b[39mfor\u001b[39;00m i, x \u001b[39min\u001b[39;00m \u001b[39menumerate\u001b[39m(values) \u001b[39mif\u001b[39;00m has_all[i]], axis\u001b[39m=\u001b[39m\u001b[39m0\u001b[39m)\n\u001b[1;32m    478\u001b[0m base \u001b[39m=\u001b[39m base\u001b[39m.\u001b[39mdrop_duplicates()\n",
      "\u001b[0;31mPlotnineError\u001b[0m: 'At least one layer must contain all variables used for facetting'"
     ]
    },
    {
     "ename": "PlotnineError",
     "evalue": "'At least one layer must contain all variables used for facetting'",
     "output_type": "error",
     "traceback": [
      "\u001b[0;31m---------------------------------------------------------------------------\u001b[0m",
      "\u001b[0;31mPlotnineError\u001b[0m                             Traceback (most recent call last)",
      "File \u001b[0;32m~/anaconda3/lib/python3.10/site-packages/IPython/core/formatters.py:706\u001b[0m, in \u001b[0;36mPlainTextFormatter.__call__\u001b[0;34m(self, obj)\u001b[0m\n\u001b[1;32m    699\u001b[0m stream \u001b[39m=\u001b[39m StringIO()\n\u001b[1;32m    700\u001b[0m printer \u001b[39m=\u001b[39m pretty\u001b[39m.\u001b[39mRepresentationPrinter(stream, \u001b[39mself\u001b[39m\u001b[39m.\u001b[39mverbose,\n\u001b[1;32m    701\u001b[0m     \u001b[39mself\u001b[39m\u001b[39m.\u001b[39mmax_width, \u001b[39mself\u001b[39m\u001b[39m.\u001b[39mnewline,\n\u001b[1;32m    702\u001b[0m     max_seq_length\u001b[39m=\u001b[39m\u001b[39mself\u001b[39m\u001b[39m.\u001b[39mmax_seq_length,\n\u001b[1;32m    703\u001b[0m     singleton_pprinters\u001b[39m=\u001b[39m\u001b[39mself\u001b[39m\u001b[39m.\u001b[39msingleton_printers,\n\u001b[1;32m    704\u001b[0m     type_pprinters\u001b[39m=\u001b[39m\u001b[39mself\u001b[39m\u001b[39m.\u001b[39mtype_printers,\n\u001b[1;32m    705\u001b[0m     deferred_pprinters\u001b[39m=\u001b[39m\u001b[39mself\u001b[39m\u001b[39m.\u001b[39mdeferred_printers)\n\u001b[0;32m--> 706\u001b[0m printer\u001b[39m.\u001b[39;49mpretty(obj)\n\u001b[1;32m    707\u001b[0m printer\u001b[39m.\u001b[39mflush()\n\u001b[1;32m    708\u001b[0m \u001b[39mreturn\u001b[39;00m stream\u001b[39m.\u001b[39mgetvalue()\n",
      "File \u001b[0;32m~/anaconda3/lib/python3.10/site-packages/IPython/lib/pretty.py:410\u001b[0m, in \u001b[0;36mRepresentationPrinter.pretty\u001b[0;34m(self, obj)\u001b[0m\n\u001b[1;32m    407\u001b[0m                         \u001b[39mreturn\u001b[39;00m meth(obj, \u001b[39mself\u001b[39m, cycle)\n\u001b[1;32m    408\u001b[0m                 \u001b[39mif\u001b[39;00m \u001b[39mcls\u001b[39m \u001b[39mis\u001b[39;00m \u001b[39mnot\u001b[39;00m \u001b[39mobject\u001b[39m \\\n\u001b[1;32m    409\u001b[0m                         \u001b[39mand\u001b[39;00m \u001b[39mcallable\u001b[39m(\u001b[39mcls\u001b[39m\u001b[39m.\u001b[39m\u001b[39m__dict__\u001b[39m\u001b[39m.\u001b[39mget(\u001b[39m'\u001b[39m\u001b[39m__repr__\u001b[39m\u001b[39m'\u001b[39m)):\n\u001b[0;32m--> 410\u001b[0m                     \u001b[39mreturn\u001b[39;00m _repr_pprint(obj, \u001b[39mself\u001b[39;49m, cycle)\n\u001b[1;32m    412\u001b[0m     \u001b[39mreturn\u001b[39;00m _default_pprint(obj, \u001b[39mself\u001b[39m, cycle)\n\u001b[1;32m    413\u001b[0m \u001b[39mfinally\u001b[39;00m:\n",
      "File \u001b[0;32m~/anaconda3/lib/python3.10/site-packages/IPython/lib/pretty.py:778\u001b[0m, in \u001b[0;36m_repr_pprint\u001b[0;34m(obj, p, cycle)\u001b[0m\n\u001b[1;32m    776\u001b[0m \u001b[39m\u001b[39m\u001b[39m\"\"\"A pprint that just redirects to the normal repr function.\"\"\"\u001b[39;00m\n\u001b[1;32m    777\u001b[0m \u001b[39m# Find newlines and replace them with p.break_()\u001b[39;00m\n\u001b[0;32m--> 778\u001b[0m output \u001b[39m=\u001b[39m \u001b[39mrepr\u001b[39;49m(obj)\n\u001b[1;32m    779\u001b[0m lines \u001b[39m=\u001b[39m output\u001b[39m.\u001b[39msplitlines()\n\u001b[1;32m    780\u001b[0m \u001b[39mwith\u001b[39;00m p\u001b[39m.\u001b[39mgroup():\n",
      "File \u001b[0;32m~/anaconda3/lib/python3.10/site-packages/plotnine/ggplot.py:131\u001b[0m, in \u001b[0;36mggplot.__repr__\u001b[0;34m(self)\u001b[0m\n\u001b[1;32m    125\u001b[0m msg \u001b[39m=\u001b[39m (\n\u001b[1;32m    126\u001b[0m     \u001b[39m\"\u001b[39m\u001b[39mUsing repr(plot) to draw and show the plot figure is \u001b[39m\u001b[39m\"\u001b[39m\n\u001b[1;32m    127\u001b[0m     \u001b[39m\"\u001b[39m\u001b[39mdeprecated and will be removed in a future version. \u001b[39m\u001b[39m\"\u001b[39m\n\u001b[1;32m    128\u001b[0m     \u001b[39m\"\u001b[39m\u001b[39mUse plot.show().\u001b[39m\u001b[39m\"\u001b[39m\n\u001b[1;32m    129\u001b[0m )\n\u001b[1;32m    130\u001b[0m warn(msg, category\u001b[39m=\u001b[39m\u001b[39mFutureWarning\u001b[39;00m, stacklevel\u001b[39m=\u001b[39m\u001b[39m2\u001b[39m)\n\u001b[0;32m--> 131\u001b[0m \u001b[39mself\u001b[39;49m\u001b[39m.\u001b[39;49mshow()\n\u001b[1;32m    132\u001b[0m \u001b[39mreturn\u001b[39;00m \u001b[39mf\u001b[39m\u001b[39m\"\u001b[39m\u001b[39m<Figure Size: (\u001b[39m\u001b[39m{\u001b[39;00mW\u001b[39m}\u001b[39;00m\u001b[39m x \u001b[39m\u001b[39m{\u001b[39;00mH\u001b[39m}\u001b[39;00m\u001b[39m)>\u001b[39m\u001b[39m\"\u001b[39m\n",
      "File \u001b[0;32m~/anaconda3/lib/python3.10/site-packages/plotnine/ggplot.py:150\u001b[0m, in \u001b[0;36mggplot.show\u001b[0;34m(self)\u001b[0m\n\u001b[1;32m    143\u001b[0m \u001b[39mdef\u001b[39;00m \u001b[39mshow\u001b[39m(\u001b[39mself\u001b[39m):\n\u001b[1;32m    144\u001b[0m \u001b[39m    \u001b[39m\u001b[39m\"\"\"\u001b[39;00m\n\u001b[1;32m    145\u001b[0m \u001b[39m    Show plot using the matplotlib backend set by the user\u001b[39;00m\n\u001b[1;32m    146\u001b[0m \n\u001b[1;32m    147\u001b[0m \u001b[39m    Users should prefer this method instead of printing or repring\u001b[39;00m\n\u001b[1;32m    148\u001b[0m \u001b[39m    the object.\u001b[39;00m\n\u001b[1;32m    149\u001b[0m \u001b[39m    \"\"\"\u001b[39;00m\n\u001b[0;32m--> 150\u001b[0m     \u001b[39mself\u001b[39;49m\u001b[39m.\u001b[39;49m_display() \u001b[39mif\u001b[39;00m is_inline_backend() \u001b[39melse\u001b[39;00m \u001b[39mself\u001b[39m\u001b[39m.\u001b[39mdraw(show\u001b[39m=\u001b[39m\u001b[39mTrue\u001b[39;00m)\n",
      "File \u001b[0;32m~/anaconda3/lib/python3.10/site-packages/plotnine/ggplot.py:175\u001b[0m, in \u001b[0;36mggplot._display\u001b[0;34m(self)\u001b[0m\n\u001b[1;32m    172\u001b[0m     save_format \u001b[39m=\u001b[39m \u001b[39m\"\u001b[39m\u001b[39mpng\u001b[39m\u001b[39m\"\u001b[39m\n\u001b[1;32m    174\u001b[0m buf \u001b[39m=\u001b[39m BytesIO()\n\u001b[0;32m--> 175\u001b[0m \u001b[39mself\u001b[39;49m\u001b[39m.\u001b[39;49msave(buf, \u001b[39mformat\u001b[39;49m\u001b[39m=\u001b[39;49msave_format, verbose\u001b[39m=\u001b[39;49m\u001b[39mFalse\u001b[39;49;00m)\n\u001b[1;32m    176\u001b[0m display_func \u001b[39m=\u001b[39m get_display_function(\u001b[39mformat\u001b[39m)\n\u001b[1;32m    177\u001b[0m display_func(buf\u001b[39m.\u001b[39mgetvalue())\n",
      "File \u001b[0;32m~/anaconda3/lib/python3.10/site-packages/plotnine/ggplot.py:663\u001b[0m, in \u001b[0;36mggplot.save\u001b[0;34m(self, filename, format, path, width, height, units, dpi, limitsize, verbose, **kwargs)\u001b[0m\n\u001b[1;32m    615\u001b[0m \u001b[39mdef\u001b[39;00m \u001b[39msave\u001b[39m(\n\u001b[1;32m    616\u001b[0m     \u001b[39mself\u001b[39m,\n\u001b[1;32m    617\u001b[0m     filename: Optional[\u001b[39mstr\u001b[39m \u001b[39m|\u001b[39m Path \u001b[39m|\u001b[39m BytesIO] \u001b[39m=\u001b[39m \u001b[39mNone\u001b[39;00m,\n\u001b[0;32m   (...)\u001b[0m\n\u001b[1;32m    626\u001b[0m     \u001b[39m*\u001b[39m\u001b[39m*\u001b[39mkwargs: Any,\n\u001b[1;32m    627\u001b[0m ):\n\u001b[1;32m    628\u001b[0m \u001b[39m    \u001b[39m\u001b[39m\"\"\"\u001b[39;00m\n\u001b[1;32m    629\u001b[0m \u001b[39m    Save a ggplot object as an image file\u001b[39;00m\n\u001b[1;32m    630\u001b[0m \n\u001b[0;32m   (...)\u001b[0m\n\u001b[1;32m    661\u001b[0m \u001b[39m        Additional arguments to pass to matplotlib `savefig()`.\u001b[39;00m\n\u001b[1;32m    662\u001b[0m \u001b[39m    \"\"\"\u001b[39;00m\n\u001b[0;32m--> 663\u001b[0m     sv \u001b[39m=\u001b[39m \u001b[39mself\u001b[39;49m\u001b[39m.\u001b[39;49msave_helper(\n\u001b[1;32m    664\u001b[0m         filename\u001b[39m=\u001b[39;49mfilename,\n\u001b[1;32m    665\u001b[0m         \u001b[39mformat\u001b[39;49m\u001b[39m=\u001b[39;49m\u001b[39mformat\u001b[39;49m,\n\u001b[1;32m    666\u001b[0m         path\u001b[39m=\u001b[39;49mpath,\n\u001b[1;32m    667\u001b[0m         width\u001b[39m=\u001b[39;49mwidth,\n\u001b[1;32m    668\u001b[0m         height\u001b[39m=\u001b[39;49mheight,\n\u001b[1;32m    669\u001b[0m         units\u001b[39m=\u001b[39;49munits,\n\u001b[1;32m    670\u001b[0m         dpi\u001b[39m=\u001b[39;49mdpi,\n\u001b[1;32m    671\u001b[0m         limitsize\u001b[39m=\u001b[39;49mlimitsize,\n\u001b[1;32m    672\u001b[0m         verbose\u001b[39m=\u001b[39;49mverbose,\n\u001b[1;32m    673\u001b[0m         \u001b[39m*\u001b[39;49m\u001b[39m*\u001b[39;49mkwargs,\n\u001b[1;32m    674\u001b[0m     )\n\u001b[1;32m    675\u001b[0m     sv\u001b[39m.\u001b[39mfigure\u001b[39m.\u001b[39msavefig(\u001b[39m*\u001b[39m\u001b[39m*\u001b[39msv\u001b[39m.\u001b[39mkwargs)\n",
      "File \u001b[0;32m~/anaconda3/lib/python3.10/site-packages/plotnine/ggplot.py:612\u001b[0m, in \u001b[0;36mggplot.save_helper\u001b[0;34m(self, filename, format, path, width, height, units, dpi, limitsize, verbose, **kwargs)\u001b[0m\n\u001b[1;32m    609\u001b[0m \u001b[39mif\u001b[39;00m dpi \u001b[39mis\u001b[39;00m \u001b[39mnot\u001b[39;00m \u001b[39mNone\u001b[39;00m:\n\u001b[1;32m    610\u001b[0m     \u001b[39mself\u001b[39m\u001b[39m.\u001b[39mtheme \u001b[39m=\u001b[39m \u001b[39mself\u001b[39m\u001b[39m.\u001b[39mtheme \u001b[39m+\u001b[39m theme(dpi\u001b[39m=\u001b[39mdpi)\n\u001b[0;32m--> 612\u001b[0m figure \u001b[39m=\u001b[39m \u001b[39mself\u001b[39;49m\u001b[39m.\u001b[39;49mdraw(show\u001b[39m=\u001b[39;49m\u001b[39mFalse\u001b[39;49;00m)\n\u001b[1;32m    613\u001b[0m \u001b[39mreturn\u001b[39;00m mpl_save_view(figure, fig_kwargs)\n",
      "File \u001b[0;32m~/anaconda3/lib/python3.10/site-packages/plotnine/ggplot.py:272\u001b[0m, in \u001b[0;36mggplot.draw\u001b[0;34m(self, show)\u001b[0m\n\u001b[1;32m    270\u001b[0m \u001b[39mself\u001b[39m \u001b[39m=\u001b[39m deepcopy(\u001b[39mself\u001b[39m)\n\u001b[1;32m    271\u001b[0m \u001b[39mwith\u001b[39;00m plot_context(\u001b[39mself\u001b[39m, show\u001b[39m=\u001b[39mshow):\n\u001b[0;32m--> 272\u001b[0m     \u001b[39mself\u001b[39;49m\u001b[39m.\u001b[39;49m_build()\n\u001b[1;32m    274\u001b[0m     \u001b[39m# setup\u001b[39;00m\n\u001b[1;32m    275\u001b[0m     \u001b[39mself\u001b[39m\u001b[39m.\u001b[39mfigure, \u001b[39mself\u001b[39m\u001b[39m.\u001b[39maxs \u001b[39m=\u001b[39m \u001b[39mself\u001b[39m\u001b[39m.\u001b[39mfacet\u001b[39m.\u001b[39msetup(\u001b[39mself\u001b[39m)\n",
      "File \u001b[0;32m~/anaconda3/lib/python3.10/site-packages/plotnine/ggplot.py:358\u001b[0m, in \u001b[0;36mggplot._build\u001b[0;34m(self)\u001b[0m\n\u001b[1;32m    354\u001b[0m layers\u001b[39m.\u001b[39msetup(\u001b[39mself\u001b[39m)\n\u001b[1;32m    356\u001b[0m \u001b[39m# Initialise panels, add extra data for margins & missing\u001b[39;00m\n\u001b[1;32m    357\u001b[0m \u001b[39m# facetting variables, and add on a PANEL variable to data\u001b[39;00m\n\u001b[0;32m--> 358\u001b[0m layout\u001b[39m.\u001b[39;49msetup(layers, \u001b[39mself\u001b[39;49m)\n\u001b[1;32m    360\u001b[0m \u001b[39m# Compute aesthetics to produce data with generalised\u001b[39;00m\n\u001b[1;32m    361\u001b[0m \u001b[39m# variable names\u001b[39;00m\n\u001b[1;32m    362\u001b[0m layers\u001b[39m.\u001b[39mcompute_aesthetics(\u001b[39mself\u001b[39m)\n",
      "File \u001b[0;32m~/anaconda3/lib/python3.10/site-packages/plotnine/facets/layout.py:77\u001b[0m, in \u001b[0;36mLayout.setup\u001b[0;34m(self, layers, plot)\u001b[0m\n\u001b[1;32m     75\u001b[0m \u001b[39m# Generate panel layout\u001b[39;00m\n\u001b[1;32m     76\u001b[0m data \u001b[39m=\u001b[39m \u001b[39mself\u001b[39m\u001b[39m.\u001b[39mfacet\u001b[39m.\u001b[39msetup_data(data)\n\u001b[0;32m---> 77\u001b[0m \u001b[39mself\u001b[39m\u001b[39m.\u001b[39mlayout \u001b[39m=\u001b[39m \u001b[39mself\u001b[39;49m\u001b[39m.\u001b[39;49mfacet\u001b[39m.\u001b[39;49mcompute_layout(data)\n\u001b[1;32m     78\u001b[0m \u001b[39mself\u001b[39m\u001b[39m.\u001b[39mlayout \u001b[39m=\u001b[39m \u001b[39mself\u001b[39m\u001b[39m.\u001b[39mcoord\u001b[39m.\u001b[39msetup_layout(\u001b[39mself\u001b[39m\u001b[39m.\u001b[39mlayout)\n\u001b[1;32m     79\u001b[0m \u001b[39mself\u001b[39m\u001b[39m.\u001b[39mcheck_layout()\n",
      "File \u001b[0;32m~/anaconda3/lib/python3.10/site-packages/plotnine/facets/facet_wrap.py:101\u001b[0m, in \u001b[0;36mfacet_wrap.compute_layout\u001b[0;34m(self, data)\u001b[0m\n\u001b[1;32m     98\u001b[0m     \u001b[39mself\u001b[39m\u001b[39m.\u001b[39mnrow, \u001b[39mself\u001b[39m\u001b[39m.\u001b[39mncol \u001b[39m=\u001b[39m \u001b[39m1\u001b[39m, \u001b[39m1\u001b[39m\n\u001b[1;32m     99\u001b[0m     \u001b[39mreturn\u001b[39;00m layout_null()\n\u001b[0;32m--> 101\u001b[0m base \u001b[39m=\u001b[39m combine_vars(data, \u001b[39mself\u001b[39;49m\u001b[39m.\u001b[39;49menvironment, \u001b[39mself\u001b[39;49m\u001b[39m.\u001b[39;49mvars, drop\u001b[39m=\u001b[39;49m\u001b[39mself\u001b[39;49m\u001b[39m.\u001b[39;49mdrop)\n\u001b[1;32m    102\u001b[0m n \u001b[39m=\u001b[39m \u001b[39mlen\u001b[39m(base)\n\u001b[1;32m    103\u001b[0m dims \u001b[39m=\u001b[39m wrap_dims(n, \u001b[39mself\u001b[39m\u001b[39m.\u001b[39m_nrow, \u001b[39mself\u001b[39m\u001b[39m.\u001b[39m_ncol)\n",
      "File \u001b[0;32m~/anaconda3/lib/python3.10/site-packages/plotnine/facets/facet.py:473\u001b[0m, in \u001b[0;36mcombine_vars\u001b[0;34m(data, environment, vars, drop)\u001b[0m\n\u001b[1;32m    471\u001b[0m has_all \u001b[39m=\u001b[39m [x\u001b[39m.\u001b[39mshape[\u001b[39m1\u001b[39m] \u001b[39m==\u001b[39m \u001b[39mlen\u001b[39m(\u001b[39mvars\u001b[39m) \u001b[39mfor\u001b[39;00m x \u001b[39min\u001b[39;00m values]\n\u001b[1;32m    472\u001b[0m \u001b[39mif\u001b[39;00m \u001b[39mnot\u001b[39;00m \u001b[39many\u001b[39m(has_all):\n\u001b[0;32m--> 473\u001b[0m     \u001b[39mraise\u001b[39;00m PlotnineError(\n\u001b[1;32m    474\u001b[0m         \u001b[39m\"\u001b[39m\u001b[39mAt least one layer must contain all variables \u001b[39m\u001b[39m\"\u001b[39m\n\u001b[1;32m    475\u001b[0m         \u001b[39m\"\u001b[39m\u001b[39mused for facetting\u001b[39m\u001b[39m\"\u001b[39m\n\u001b[1;32m    476\u001b[0m     )\n\u001b[1;32m    477\u001b[0m base \u001b[39m=\u001b[39m pd\u001b[39m.\u001b[39mconcat([x \u001b[39mfor\u001b[39;00m i, x \u001b[39min\u001b[39;00m \u001b[39menumerate\u001b[39m(values) \u001b[39mif\u001b[39;00m has_all[i]], axis\u001b[39m=\u001b[39m\u001b[39m0\u001b[39m)\n\u001b[1;32m    478\u001b[0m base \u001b[39m=\u001b[39m base\u001b[39m.\u001b[39mdrop_duplicates()\n",
      "\u001b[0;31mPlotnineError\u001b[0m: 'At least one layer must contain all variables used for facetting'"
     ]
    }
   ],
   "source": [
    "plot"
   ]
  },
  {
   "cell_type": "code",
   "execution_count": 417,
   "metadata": {},
   "outputs": [
    {
     "name": "stdout",
     "output_type": "stream",
     "text": [
      "Unexpected exception formatting exception. Falling back to standard exception\n"
     ]
    },
    {
     "name": "stderr",
     "output_type": "stream",
     "text": [
      "Traceback (most recent call last):\n",
      "  File \"/Users/anubhavnehru/anaconda3/lib/python3.10/site-packages/pandas/core/indexes/base.py\", line 3802, in get_loc\n",
      "    \"\"\"\n",
      "  File \"pandas/_libs/index.pyx\", line 138, in pandas._libs.index.IndexEngine.get_loc\n",
      "  File \"pandas/_libs/index.pyx\", line 165, in pandas._libs.index.IndexEngine.get_loc\n",
      "  File \"pandas/_libs/hashtable_class_helper.pxi\", line 5745, in pandas._libs.hashtable.PyObjectHashTable.get_item\n",
      "  File \"pandas/_libs/hashtable_class_helper.pxi\", line 5753, in pandas._libs.hashtable.PyObjectHashTable.get_item\n",
      "KeyError: 'revenue_pred_0.025'\n",
      "\n",
      "The above exception was the direct cause of the following exception:\n",
      "\n",
      "Traceback (most recent call last):\n",
      "  File \"/Users/anubhavnehru/anaconda3/lib/python3.10/site-packages/IPython/core/interactiveshell.py\", line 3460, in run_code\n",
      "    exec(code_obj, self.user_global_ns, self.user_ns)\n",
      "  File \"/var/folders/f3/hq7n6w7d59n_lkymzcwnbnhc0000gn/T/ipykernel_10714/3346031720.py\", line 1, in <module>\n",
      "    best_025 = all_results.groupby('ITEM_NAME').apply(lambda x: x.nlargest(1, 'revenue_pred_0.025')).reset_index(level=0, drop=True)\n",
      "  File \"/Users/anubhavnehru/anaconda3/lib/python3.10/site-packages/pandas/core/groupby/groupby.py\", line 1567, in apply\n",
      "    @final\n",
      "  File \"/Users/anubhavnehru/anaconda3/lib/python3.10/site-packages/pandas/core/groupby/groupby.py\", line 1629, in _python_apply_general\n",
      "    # -----------------------------------------------------------------\n",
      "  File \"/Users/anubhavnehru/anaconda3/lib/python3.10/site-packages/pandas/core/groupby/ops.py\", line 839, in apply\n",
      "  File \"/var/folders/f3/hq7n6w7d59n_lkymzcwnbnhc0000gn/T/ipykernel_10714/3346031720.py\", line 1, in <lambda>\n",
      "    best_025 = all_results.groupby('ITEM_NAME').apply(lambda x: x.nlargest(1, 'revenue_pred_0.025')).reset_index(level=0, drop=True)\n",
      "  File \"/Users/anubhavnehru/anaconda3/lib/python3.10/site-packages/pandas/core/frame.py\", line 7338, in nlargest\n",
      "  File \"/Users/anubhavnehru/anaconda3/lib/python3.10/site-packages/pandas/core/algorithms.py\", line 1277, in nlargest\n",
      "    Values to insert into `arr`.\n",
      "  File \"/Users/anubhavnehru/anaconda3/lib/python3.10/site-packages/pandas/core/algorithms.py\", line 1406, in compute\n",
      "  File \"/Users/anubhavnehru/anaconda3/lib/python3.10/site-packages/pandas/core/frame.py\", line 3807, in __getitem__\n",
      "    Notes\n",
      "  File \"/Users/anubhavnehru/anaconda3/lib/python3.10/site-packages/pandas/core/indexes/base.py\", line 3804, in get_loc\n",
      "    try:\n",
      "KeyError: 'revenue_pred_0.025'\n",
      "\n",
      "During handling of the above exception, another exception occurred:\n",
      "\n",
      "Traceback (most recent call last):\n",
      "  File \"/Users/anubhavnehru/anaconda3/lib/python3.10/site-packages/IPython/core/interactiveshell.py\", line 2057, in showtraceback\n",
      "    stb = self.InteractiveTB.structured_traceback(\n",
      "  File \"/Users/anubhavnehru/anaconda3/lib/python3.10/site-packages/IPython/core/ultratb.py\", line 1118, in structured_traceback\n",
      "    return FormattedTB.structured_traceback(\n",
      "  File \"/Users/anubhavnehru/anaconda3/lib/python3.10/site-packages/IPython/core/ultratb.py\", line 1012, in structured_traceback\n",
      "    return VerboseTB.structured_traceback(\n",
      "  File \"/Users/anubhavnehru/anaconda3/lib/python3.10/site-packages/IPython/core/ultratb.py\", line 865, in structured_traceback\n",
      "    formatted_exception = self.format_exception_as_a_whole(etype, evalue, etb, number_of_lines_of_context,\n",
      "  File \"/Users/anubhavnehru/anaconda3/lib/python3.10/site-packages/IPython/core/ultratb.py\", line 818, in format_exception_as_a_whole\n",
      "    frames.append(self.format_record(r))\n",
      "  File \"/Users/anubhavnehru/anaconda3/lib/python3.10/site-packages/IPython/core/ultratb.py\", line 736, in format_record\n",
      "    result += ''.join(_format_traceback_lines(frame_info.lines, Colors, self.has_colors, lvals))\n",
      "  File \"/Users/anubhavnehru/anaconda3/lib/python3.10/site-packages/stack_data/utils.py\", line 145, in cached_property_wrapper\n",
      "    value = obj.__dict__[self.func.__name__] = self.func(obj)\n",
      "  File \"/Users/anubhavnehru/anaconda3/lib/python3.10/site-packages/stack_data/core.py\", line 698, in lines\n",
      "    pieces = self.included_pieces\n",
      "  File \"/Users/anubhavnehru/anaconda3/lib/python3.10/site-packages/stack_data/utils.py\", line 145, in cached_property_wrapper\n",
      "    value = obj.__dict__[self.func.__name__] = self.func(obj)\n",
      "  File \"/Users/anubhavnehru/anaconda3/lib/python3.10/site-packages/stack_data/core.py\", line 649, in included_pieces\n",
      "    pos = scope_pieces.index(self.executing_piece)\n",
      "  File \"/Users/anubhavnehru/anaconda3/lib/python3.10/site-packages/stack_data/utils.py\", line 145, in cached_property_wrapper\n",
      "    value = obj.__dict__[self.func.__name__] = self.func(obj)\n",
      "  File \"/Users/anubhavnehru/anaconda3/lib/python3.10/site-packages/stack_data/core.py\", line 628, in executing_piece\n",
      "    return only(\n",
      "  File \"/Users/anubhavnehru/anaconda3/lib/python3.10/site-packages/executing/executing.py\", line 164, in only\n",
      "    raise NotOneValueFound('Expected one value, found 0')\n",
      "executing.executing.NotOneValueFound: Expected one value, found 0\n"
     ]
    }
   ],
   "source": [
    "best_025 = all_results.groupby('ITEM_NAME').apply(lambda x: x.nlargest(1, 'revenue_pred_0.025')).reset_index(level=0, drop=True)\n",
    "best_050 = all_results.groupby('ITEM_NAME').apply(lambda x: x.nlargest(1, 'revenue_pred_0.5')).reset_index(level=0, drop=True)\n",
    "best_0975 = all_results.groupby('ITEM_NAME').apply(lambda x: x.nlargest(1, 'revenue_pred_0.975')).reset_index(level=0, drop=True)"
   ]
  },
  {
   "cell_type": "code",
   "execution_count": null,
   "metadata": {},
   "outputs": [],
   "source": [
    "# Define a more visually appealing color palette\n",
    "color_palette = ['#3498db', '#e74c3c', '#2ecc71', '#f1c40f', '#9b59b6', '#34495e', '#1abc9c', '#d35400', '#7f8c8d']\n",
    "\n",
    "plot(ggplot(all_results, aes (x='price', y='revenue_pred_0.5', color='item', group='item'))                                                                                                         + geom_ribbon (aes (ymin='revenue_pred_0.025', ymax='revenue_pred_0.975'), fill='#d3d3d3', alpha=0.75,\n",
    "\n",
    "        + geom_point(aes (y='revenue'), alpha=0.15, color='#2C3E50') # Original data points               \n",
    "\n",
    "        + geom_line(aes (y='revenue_pred_0.5'), alpha=0.5)\n",
    "        + geom_point(aes (y= 'revenue_pred_0.5'), data=best_050, color='red') # Best 0.5 revenue points\n",
    "                                                                               # Best 0.975 revenue points                                                                         geom_point(aes (y= 'revenue_pred_0.975'), data=best_0975, color='blue')\n",
    "        + geom_point(aes (y= 'revenue_pred_0.025'), data=best_025, color='green') # Best 0.025 revenue points\n",
    "\n",
    "        + facet_wrap('item', scales 'free') # Separate plots for each product\n",
    "        + labs (title='Items Price Optimization', x='Price', y='Revenue') # Add Labels and title\n",
    "        + theme(figure_size=(12, 8)) # Increase the size of the plot\n",
    "\n",
    ")                                                             + scale_color_manual(values=color_palette)\n",
    "\n",
    "#Display the plot\n",
    "print(plot)\n"
   ]
  }
 ],
 "metadata": {
  "kernelspec": {
   "display_name": "base",
   "language": "python",
   "name": "python3"
  },
  "language_info": {
   "codemirror_mode": {
    "name": "ipython",
    "version": 3
   },
   "file_extension": ".py",
   "mimetype": "text/x-python",
   "name": "python",
   "nbconvert_exporter": "python",
   "pygments_lexer": "ipython3",
   "version": "3.10.9"
  },
  "orig_nbformat": 4
 },
 "nbformat": 4,
 "nbformat_minor": 2
}
